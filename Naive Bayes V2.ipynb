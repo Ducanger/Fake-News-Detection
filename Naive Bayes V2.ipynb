{
 "cells": [
  {
   "cell_type": "code",
   "execution_count": 2,
   "metadata": {},
   "outputs": [],
   "source": [
    "import pandas as pd"
   ]
  },
  {
   "cell_type": "code",
   "execution_count": 5,
   "metadata": {},
   "outputs": [],
   "source": [
    "df = pd.read_csv('datasets/public_train.csv')"
   ]
  },
  {
   "cell_type": "code",
   "execution_count": 8,
   "metadata": {},
   "outputs": [
    {
     "data": {
      "text/html": [
       "<div>\n",
       "<style scoped>\n",
       "    .dataframe tbody tr th:only-of-type {\n",
       "        vertical-align: middle;\n",
       "    }\n",
       "\n",
       "    .dataframe tbody tr th {\n",
       "        vertical-align: top;\n",
       "    }\n",
       "\n",
       "    .dataframe thead th {\n",
       "        text-align: right;\n",
       "    }\n",
       "</style>\n",
       "<table border=\"1\" class=\"dataframe\">\n",
       "  <thead>\n",
       "    <tr style=\"text-align: right;\">\n",
       "      <th></th>\n",
       "      <th>id</th>\n",
       "      <th>user_name</th>\n",
       "      <th>post_message</th>\n",
       "      <th>timestamp_post</th>\n",
       "      <th>num_like_post</th>\n",
       "      <th>num_comment_post</th>\n",
       "      <th>num_share_post</th>\n",
       "      <th>label</th>\n",
       "    </tr>\n",
       "  </thead>\n",
       "  <tbody>\n",
       "    <tr>\n",
       "      <th>0</th>\n",
       "      <td>1</td>\n",
       "      <td>389c669730cb6c54314a46be785cea42</td>\n",
       "      <td>THĂNG CẤP BẬC HÀM ĐỐI VỚI 2 CÁN BỘ, CHIẾN SỸ H...</td>\n",
       "      <td>1585945439</td>\n",
       "      <td>19477</td>\n",
       "      <td>378</td>\n",
       "      <td>173.0</td>\n",
       "      <td>0</td>\n",
       "    </tr>\n",
       "    <tr>\n",
       "      <th>1</th>\n",
       "      <td>2</td>\n",
       "      <td>775baa6d037b6d359b229a656eaeaf08</td>\n",
       "      <td>&lt;URL&gt;</td>\n",
       "      <td>1588939166.0</td>\n",
       "      <td>11</td>\n",
       "      <td>5</td>\n",
       "      <td>3</td>\n",
       "      <td>0</td>\n",
       "    </tr>\n",
       "    <tr>\n",
       "      <th>2</th>\n",
       "      <td>3</td>\n",
       "      <td>b9f3394d2aff86d85974f5040c401f08</td>\n",
       "      <td>TƯ VẤN MÙA THI: Cách nộp hồ sơ để trúng tuyển ...</td>\n",
       "      <td>1591405213</td>\n",
       "      <td>48</td>\n",
       "      <td>5</td>\n",
       "      <td>19.0</td>\n",
       "      <td>0</td>\n",
       "    </tr>\n",
       "    <tr>\n",
       "      <th>3</th>\n",
       "      <td>4</td>\n",
       "      <td>808e278b22ec6b96f2faf7447d10cd8e</td>\n",
       "      <td>Cơ quan Cạnh tranh và Thị trường Anh quyết địn...</td>\n",
       "      <td>1592023613</td>\n",
       "      <td>3</td>\n",
       "      <td>0</td>\n",
       "      <td>0.0</td>\n",
       "      <td>0</td>\n",
       "    </tr>\n",
       "    <tr>\n",
       "      <th>4</th>\n",
       "      <td>5</td>\n",
       "      <td>f81bdd6d8be4c5f64bb664214e47aced</td>\n",
       "      <td>Thêm 7 ca tại Quảng Nam liên quan đến hành khá...</td>\n",
       "      <td>1583737358</td>\n",
       "      <td>775</td>\n",
       "      <td>0</td>\n",
       "      <td>54.0</td>\n",
       "      <td>0</td>\n",
       "    </tr>\n",
       "  </tbody>\n",
       "</table>\n",
       "</div>"
      ],
      "text/plain": [
       "   id                         user_name  \\\n",
       "0   1  389c669730cb6c54314a46be785cea42   \n",
       "1   2  775baa6d037b6d359b229a656eaeaf08   \n",
       "2   3  b9f3394d2aff86d85974f5040c401f08   \n",
       "3   4  808e278b22ec6b96f2faf7447d10cd8e   \n",
       "4   5  f81bdd6d8be4c5f64bb664214e47aced   \n",
       "\n",
       "                                        post_message timestamp_post  \\\n",
       "0  THĂNG CẤP BẬC HÀM ĐỐI VỚI 2 CÁN BỘ, CHIẾN SỸ H...     1585945439   \n",
       "1                                              <URL>   1588939166.0   \n",
       "2  TƯ VẤN MÙA THI: Cách nộp hồ sơ để trúng tuyển ...     1591405213   \n",
       "3  Cơ quan Cạnh tranh và Thị trường Anh quyết địn...     1592023613   \n",
       "4  Thêm 7 ca tại Quảng Nam liên quan đến hành khá...     1583737358   \n",
       "\n",
       "  num_like_post num_comment_post num_share_post  label  \n",
       "0         19477              378          173.0      0  \n",
       "1            11                5              3      0  \n",
       "2            48                5           19.0      0  \n",
       "3             3                0            0.0      0  \n",
       "4           775                0           54.0      0  "
      ]
     },
     "execution_count": 8,
     "metadata": {},
     "output_type": "execute_result"
    }
   ],
   "source": [
    "df.head()"
   ]
  },
  {
   "cell_type": "code",
   "execution_count": 7,
   "metadata": {},
   "outputs": [
    {
     "data": {
      "text/plain": [
       "1"
      ]
     },
     "execution_count": 7,
     "metadata": {},
     "output_type": "execute_result"
    }
   ],
   "source": [
    "df.iloc[:,0][0]"
   ]
  },
  {
   "cell_type": "code",
   "execution_count": 14,
   "metadata": {},
   "outputs": [
    {
     "name": "stdout",
     "output_type": "stream",
     "text": [
      "4373,a80e9faa68fdb250bcea6455851e5298,\"Mai th?´n Ch?­ Trung á» HÆ°ng Y?ªn dá»¡ bá» phong tá»a sau 29 ng? y c?¡ch ly:\n",
      "****************************************************************************************************\n",
      "Mai th?´n Ch?­ Trung ÄÆ°á»£c dá»¡ phong tá»a, c?³ g?¬ báº¡n chia sáº» b? i gi?ºp nh?©! C?¡m Æ¡n báº¡n!\n",
      "****************************************************************************************************\n",
      "nan\n",
      "****************************************************************************************************\n",
      ",1588171905,9,0,\n",
      "4374,03d27f8d9815f6eb8ac8cfdd9c07e283,Tá»± h? o Viá»t Nam l?ªn táº­n 3 s?³ng truyá»n h?¬nh ná»i tiáº¿ng cá»§a Má»¹ CNN ABC CBN :3 Táº¥t cáº£ má»i ngÆ°á»i c?¹ng cá» l?ªn, Äáº©y l?¹i Corona n? o! \",,59000,1100,8800\n",
      "****************************************************************************************************\n",
      "4375,8d8954f983a48be041a2236ffe8787e8,\"UBND TP Cáº§n ThÆ¡ ra c?´ng vÄn cho há»c sinh, sinh vi?ªn, há»c vi?ªn tr?ªn Äá»a b? n nghá» há»c Äáº¿n háº¿t th?¡ng 3/2020 Äá» ph?²ng chá»ng dá»ch COVID-19 nh?© má»i ngÆ°á»i.\",1583156340,431,41,18\n",
      "****************************************************************************************************\n",
      "4376,cfeb26914d689b074d780db426d91cc3,Tin kháº©n e vá»«a biáº¿t Ace phong v?¢n c?¹ng nhau l?ªn tiáº¿ng vá» viá»c ai nghe tin cÅ©ng bá»©c x?ºc lo láº¯ng Chuáº©n bá» gom nhá»¯ng ai Äi trung quá»c c?¡ch li vá» khu doanh tráº¡i bá» Äá»i táº¡i th?´n ni?ªng v?  phong v?¢n N?³ nhÆ° 1 quáº£ bom nhá»¡ c?³ ngÆ°á»i bá» viruy th?¬ sáº½ lan ra 7 x?£ tr?ªn Ä?¨o n? y Mong má»i ngÆ°á»i c?¹ng nh?  l?ªn tiáº¿ng áº¡,1582076820,460,137,69\n",
      "****************************************************************************************************\n",
      "4377,a8517962b87a3f7f3f74aaf3e8e28dd5,\"Äáº¡i t?¡ Rah Lan L?¢m, nguy?ªn Ph?³ gi?¡m Äá»c C?´ng an tá»nh ÄÆ°á»£c bá» nhiá»m giá»¯ chá»©c Gi?¡m Äá»c C?´ng an tá»nh Gia Lai.\",1593401443,11,0,0\n",
      "****************************************************************************************************\n",
      "4378,808e278b22ec6b96f2faf7447d10cd8e,\"Bá» trÆ°á»ng Bá» TT&TT Nguyá»",
      "n Máº¡nh H?¹ng chia sáº», má»i ngÆ°á»i má»t giá»t nÆ°á»c nhá» th? nh biá»n lá»n. 20 ng? y ch?ºng ta Ä?£ c?³ 2,2 triá»u lÆ°á»£t nháº¯n tin, c?³ 133 tá»· Äá»ng.\",1586482135,7,0,1\n",
      "****************************************************************************************************\n",
      "4379,eb3acf1e386bdc1cc2bb019766acc36a,\"Kinh ho? ng cáº£nh ch?³ Pitbull hung dá»¯ cáº¯n cháº¿t d?ª tr?ªn ÄÆ°á»ng phá» Ä?´ng ngÆ°á»i á» Vinh\n",
      "****************************************************************************************************\n",
      "nan\n",
      "****************************************************************************************************\n",
      "[<URL>](<URL>)\",1588990664,51,27,5\n",
      "****************************************************************************************************\n",
      "4380,81c97b62c1ed6c28fb89422dce41bb90,\"[G?C ADMIN]\n",
      "****************************************************************************************************\n",
      "nan\n",
      "****************************************************************************************************\n",
      "Chá» Yáº¿n DÆ°Æ¡ng, Äáº¡i diá»n nh?³m háº£o t?¢m 1977 h?´m qua Ä?£ Äáº¿n táº­n trÆ°á»ng thÄm Trá»ng Äáº¡t - cáº­u b?© Ä?£ khiáº¿n h? ng triá»u ngÆ°á»i x?ºc Äá»ng v?¬ nháº·t r?¡c th?´ng miá»ng cá»ng tho?¡t nÆ°á»c khi mÆ°a to á» Äá»ng Nai.\n",
      "****************************************************************************************************\n",
      "nan\n",
      "****************************************************************************************************\n",
      "âH? nh Äá»ng cá»§a b?© Äáº¹p qu?¡, m?  ho? n cáº£nh cá»±c qu?¡, chá» c?¹ng nh?³m Äang váº­n Äá»ng Äá» á»§ng há» cho b?© ÄÆ°á»£c má»t cuá»n sá» tiáº¿t kiá»m, mai n? y c?³ Än c?³ há»c, em sáº½ c?²n l? m ÄÆ°á»£c nhiá»u Äiá»u c?³ ?­ch hÆ¡nâ - Chá» DÆ°Æ¡ng n?³i.\n",
      "****************************************************************************************************\n",
      "nan\n",
      "****************************************************************************************************\n",
      "CÅ©ng h?´m qua, má»t tháº§y gi?¡o Ä?£ 55 tuá»i, cháº¡y xe giá»¯a c?¡i náº¯ng thi?ªu da ch?¡y thá»t tá»« TpHCM vá» Äá»ng Nai Äá» táº·ng b?© Äáº¡t má»t há»p qu?  nhá». Kh?´ng quáº£n ngáº¡i xa x?´i l?  v?¬ c?¢u chuyá»n cá»§a Äáº¡t Ä?£ khiáº¿n l?²ng tháº§y trá»i dáº­y má»t sá»± biáº¿t Æ¡n s?¢u sáº¯c. HÆ¡n 10 nÄm trÆ°á»c, tháº§y c?¹ng nh?³m sinh vi?ªn Ä?£ nghi?ªn cá»©u giáº£i ph?¡p vá» chá»ng ngáº­p nÆ°á»c Ä?´ thá» nhÆ°ng Äáº¿n nay váº«n chá»-náº±m-im-tr?ªn-giáº¥y. Bá»i nhiá»u biá»n ph?¡p Äáº¿n Ä?¢u, nhÆ°ng ?½ thá»©c cá»§a ngÆ°á»i d?¢n k?©m th?¬ váº«n tháº­t kh?³. M?¹a mÆ°a Äáº¿n v?  nhá»¯ng miá»ng cá»ng Äáº§y r?¡c. Ä?³ l?  nguy?ªn nh?¢n lá»n Äá» ngáº­p váº«n ho? n ngáº­p.\n",
      "****************************************************************************************************\n",
      "nan\n",
      "****************************************************************************************************\n",
      "âT?´i cáº£m tháº¥y dÆ°á»ng nhÆ° ÄÆ¡n Äá»c trong h? nh tr?¬nh n? y, nhÆ°ng khi tháº¥y h?¬nh áº£nh b?© Äáº¡t Ä?£ l? m t?´i x?ºc Äá»ng máº¡nh. Mong ráº±ng Ä?³ l?  c?¢u chuyá»n truyá»n cáº£m há»©ng Äá» nhiá»u ngÆ°á»i há»c táº­pâ - tháº§y n?³i.\n",
      "****************************************************************************************************\n"
     ]
    }
   ],
   "source": [
    "for i in range(20):\n",
    "    print(df.iloc[:,0][i])\n",
    "    print('*'*100)"
   ]
  },
  {
   "cell_type": "code",
   "execution_count": null,
   "metadata": {},
   "outputs": [],
   "source": []
  }
 ],
 "metadata": {
  "kernelspec": {
   "display_name": "Python 3",
   "language": "python",
   "name": "python3"
  },
  "language_info": {
   "codemirror_mode": {
    "name": "ipython",
    "version": 3
   },
   "file_extension": ".py",
   "mimetype": "text/x-python",
   "name": "python",
   "nbconvert_exporter": "python",
   "pygments_lexer": "ipython3",
   "version": "3.7.7"
  }
 },
 "nbformat": 4,
 "nbformat_minor": 4
}

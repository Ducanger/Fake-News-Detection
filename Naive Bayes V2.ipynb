{
 "cells": [
  {
   "cell_type": "code",
   "execution_count": 37,
   "metadata": {},
   "outputs": [],
   "source": [
    "import pandas as pd\n",
    "import re\n",
    "from sklearn import metrics\n",
    "from sklearn.metrics import accuracy_score\n",
    "#The itertools module includes a set of functions for working with iterable (sequence-like) data sets.\n",
    "import itertools"
   ]
  },
  {
   "cell_type": "code",
   "execution_count": 38,
   "metadata": {},
   "outputs": [],
   "source": [
    "df = pd.read_csv(r'D:\\Fake News Detection\\Data\\pre_train_data.csv') "
   ]
  },
  {
   "cell_type": "code",
   "execution_count": 39,
   "metadata": {},
   "outputs": [],
   "source": [
    "df.drop(['stt','id','timestamp_post'], axis='columns', inplace=True)"
   ]
  },
  {
   "cell_type": "code",
   "execution_count": 40,
   "metadata": {
    "scrolled": true
   },
   "outputs": [
    {
     "data": {
      "text/html": [
       "<div>\n",
       "<style scoped>\n",
       "    .dataframe tbody tr th:only-of-type {\n",
       "        vertical-align: middle;\n",
       "    }\n",
       "\n",
       "    .dataframe tbody tr th {\n",
       "        vertical-align: top;\n",
       "    }\n",
       "\n",
       "    .dataframe thead th {\n",
       "        text-align: right;\n",
       "    }\n",
       "</style>\n",
       "<table border=\"1\" class=\"dataframe\">\n",
       "  <thead>\n",
       "    <tr style=\"text-align: right;\">\n",
       "      <th></th>\n",
       "      <th>post_message</th>\n",
       "      <th>num_like_post</th>\n",
       "      <th>num_comment_post</th>\n",
       "      <th>num_share_post</th>\n",
       "    </tr>\n",
       "  </thead>\n",
       "  <tbody>\n",
       "    <tr>\n",
       "      <th>0</th>\n",
       "      <td>thăng cấp_bậc hàm đối_với cán_bộ chiến sỹ hy_s...</td>\n",
       "      <td>19477</td>\n",
       "      <td>378</td>\n",
       "      <td>173</td>\n",
       "    </tr>\n",
       "    <tr>\n",
       "      <th>1</th>\n",
       "      <td>tư_vấn mùa thi cách nộp hồ_sơ để trúng_tuyển c...</td>\n",
       "      <td>11</td>\n",
       "      <td>5</td>\n",
       "      <td>3</td>\n",
       "    </tr>\n",
       "    <tr>\n",
       "      <th>2</th>\n",
       "      <td>cơ_quan cạnh_tranh và thị_trường anh quyết_địn...</td>\n",
       "      <td>48</td>\n",
       "      <td>5</td>\n",
       "      <td>19</td>\n",
       "    </tr>\n",
       "    <tr>\n",
       "      <th>3</th>\n",
       "      <td>thêm ca tại quảng_nam liên_quan đến hành_khách...</td>\n",
       "      <td>3</td>\n",
       "      <td>0</td>\n",
       "      <td>0</td>\n",
       "    </tr>\n",
       "    <tr>\n",
       "      <th>4</th>\n",
       "      <td>trong giờ học_thể dụ ‌ c do thầy_giáo nguyễn_v...</td>\n",
       "      <td>775</td>\n",
       "      <td>0</td>\n",
       "      <td>54</td>\n",
       "    </tr>\n",
       "  </tbody>\n",
       "</table>\n",
       "</div>"
      ],
      "text/plain": [
       "                                        post_message num_like_post  \\\n",
       "0  thăng cấp_bậc hàm đối_với cán_bộ chiến sỹ hy_s...         19477   \n",
       "1  tư_vấn mùa thi cách nộp hồ_sơ để trúng_tuyển c...            11   \n",
       "2  cơ_quan cạnh_tranh và thị_trường anh quyết_địn...            48   \n",
       "3  thêm ca tại quảng_nam liên_quan đến hành_khách...             3   \n",
       "4  trong giờ học_thể dụ ‌ c do thầy_giáo nguyễn_v...           775   \n",
       "\n",
       "  num_comment_post num_share_post  \n",
       "0              378            173  \n",
       "1                5              3  \n",
       "2                5             19  \n",
       "3                0              0  \n",
       "4                0             54  "
      ]
     },
     "execution_count": 40,
     "metadata": {},
     "output_type": "execute_result"
    }
   ],
   "source": [
    "inputs = df.drop('label',axis='columns')\n",
    "inputs.post_message = inputs.post_message.str.replace(\"[0-9]\",\"\")\n",
    "inputs.post_message = inputs.post_message.str.replace(\"[`~!@#$%^&*()-=+\\|?><;:,.{}']\",\"\")\n",
    "inputs.post_message = inputs.post_message.str.replace(\" +\",\" \")\n",
    "inputs.post_message = inputs.post_message.str.replace(\"_+\",\"_\")\n",
    "inputs.head()"
   ]
  },
  {
   "cell_type": "code",
   "execution_count": 41,
   "metadata": {
    "scrolled": false
   },
   "outputs": [
    {
     "name": "stdout",
     "output_type": "stream",
     "text": [
      "thăng cấp_bậc hàm đối_với cán_bộ chiến sỹ hy_sinh ở đà nẵng ngày đại_tướng tô lâm bộ_trưởng bộ công_an đã ký quyết_định số qđ bcax thăng cấp_bậc hàm từ đại_úy lên thiếu_tá đối_với đồng_chí đặng_thanh tuấn cùng ngày thiếu_tướng vũ xuân_viên giám_đốc công_an thành_phố đà nẵng ký quyết_định số qđ cathành phố thăng cấp_bậc hàm từ trung_sĩ lên thượng sỹ đối_với đồng_chí võ văn toàn đây là cán_bộ chiến sỹ đã hy_sinh trong quá_trình thực_hiện nhiệm_vụ đảm_bảo an_ninh trật_tự phòng_chống tội_phạm trên địa_bàn thành_phố đà nẵng trước đó vào lúc h ngày công_an thành_phố đà nẵng nhận được tin báo của nhân_dân có nhóm đối_tượng đua xe và cướp_giật người đi đường tại khu_vực quận sơn_trà trong bối_cảnh toàn_quốc thực_hiện cách_ly xã_hội theo chỉ_thị số của thủ_tướng chính_phủ công_an thành_phố đà nẵng đã chỉ_đạo cho công_an quận sơn_trà triển_khai lực_lượng truy bắt nhóm đối_tượng trong quá_trình truy_đuổi các đối_tượng trên đại_úy đặng_thanh_tuấn và trung_sĩ võ văn toàn_bị tai_nạn và hy_sinh ảnh ttxviệt nam\n"
     ]
    }
   ],
   "source": [
    "print(inputs.post_message[0])"
   ]
  },
  {
   "cell_type": "code",
   "execution_count": 42,
   "metadata": {},
   "outputs": [],
   "source": [
    "from sklearn.model_selection import train_test_split\n",
    "data_train, data_test, label_train, label_test = train_test_split(inputs, df.label, test_size=0.2)"
   ]
  },
  {
   "cell_type": "code",
   "execution_count": 43,
   "metadata": {
    "scrolled": false
   },
   "outputs": [
    {
     "data": {
      "text/plain": [
       "['_acid',\n",
       " '_acid dạ_dày',\n",
       " '_ban',\n",
       " '_ban chỉ_đạo',\n",
       " '_bước_',\n",
       " '_bước_ like',\n",
       " '_bộ',\n",
       " '_bộ công_thương',\n",
       " '_chuỗi',\n",
       " '_chuỗi siêu_thị',\n",
       " '_chàng',\n",
       " '_chàng ca_sĩ',\n",
       " '_coronavirus',\n",
       " '_coronavirus có_thể',\n",
       " '_cp',\n",
       " '_cp lại',\n",
       " '_cười',\n",
       " '_cần',\n",
       " '_cần tiếng_nói',\n",
       " '_dạ',\n",
       " '_dạ vâng',\n",
       " '_dịch',\n",
       " '_dịch nha',\n",
       " '_dữ_liệu',\n",
       " '_dữ_liệu bài',\n",
       " '_dữ_liệu cho',\n",
       " '_dữ_liệu giá',\n",
       " '_dữ_liệu phân_tích',\n",
       " '_dữ_liệu từ',\n",
       " '_hoá',\n",
       " '_hoá biochemical',\n",
       " '_hình',\n",
       " '_hình nguồn',\n",
       " '_hóa_an',\n",
       " '_hóa_an ên',\n",
       " '_hóa_đơn',\n",
       " '_hóa_đơn tiền',\n",
       " '_hải',\n",
       " '_hải chạy',\n",
       " '_hậu_lộc',\n",
       " '_hậu_lộc chủ',\n",
       " '_khí',\n",
       " '_khí dung',\n",
       " '_kỳ',\n",
       " '_kỳ thi_tuyển_sinh',\n",
       " '_kỳ_hóa_đơn',\n",
       " '_kỳ_hóa_đơn tháng',\n",
       " '_liệu',\n",
       " '_liệu khoa_học',\n",
       " '_lượng',\n",
       " '_lượng hàng',\n",
       " '_lượng lớn',\n",
       " '_mác',\n",
       " '_mác và',\n",
       " '_nghỉ',\n",
       " '_nghỉ nghỉ',\n",
       " '_nêu',\n",
       " '_nêu ý_kiến',\n",
       " '_nữ',\n",
       " '_nữ bệnh_nhân',\n",
       " '_pháp',\n",
       " '_pháp hiện',\n",
       " '_pháp hủy_bỏ',\n",
       " '_phượng',\n",
       " '_phượng phải',\n",
       " '_phượng đau_đớn',\n",
       " '_quang',\n",
       " '_quang có',\n",
       " '_sai',\n",
       " '_sai bét_nhè',\n",
       " '_st',\n",
       " '_st thuy',\n",
       " '_số',\n",
       " '_số cho',\n",
       " '_sở',\n",
       " '_sở y_tế',\n",
       " '_ta',\n",
       " '_ta có_thể',\n",
       " '_thái',\n",
       " '_thái lan',\n",
       " '_triệu',\n",
       " '_triệu lao_động',\n",
       " '_triệu đồng',\n",
       " '_trưởng',\n",
       " '_trưởng cố_vấn',\n",
       " '_trưởng khoa',\n",
       " '_tính',\n",
       " '_tính đến',\n",
       " '_tức',\n",
       " '_tức phải',\n",
       " '_tự',\n",
       " '_tự hào',\n",
       " '_x_hà',\n",
       " '_x_hà nội',\n",
       " '_x_trong',\n",
       " '_x_trong một',\n",
       " '_đáng',\n",
       " '_đáng nói',\n",
       " '_đọc',\n",
       " '_đọc mà']"
      ]
     },
     "execution_count": 43,
     "metadata": {},
     "output_type": "execute_result"
    }
   ],
   "source": [
    "from sklearn.feature_extraction.text import CountVectorizer,TfidfVectorizer, TfidfTransformer\n",
    "vec = CountVectorizer(ngram_range=(1,2))     #max_features=5000\n",
    "data_train_count = vec.fit_transform(data_train.post_message)\n",
    "vec.get_feature_names()[:100]\n",
    "#print(data_train_count.toarray())"
   ]
  },
  {
   "cell_type": "code",
   "execution_count": 44,
   "metadata": {},
   "outputs": [
    {
     "data": {
      "text/plain": [
       "(2717, 149630)"
      ]
     },
     "execution_count": 44,
     "metadata": {},
     "output_type": "execute_result"
    }
   ],
   "source": [
    "data_train_count.shape"
   ]
  },
  {
   "cell_type": "code",
   "execution_count": 45,
   "metadata": {},
   "outputs": [
    {
     "data": {
      "text/plain": [
       "MultinomialNB()"
      ]
     },
     "execution_count": 45,
     "metadata": {},
     "output_type": "execute_result"
    }
   ],
   "source": [
    "from sklearn.naive_bayes import MultinomialNB\n",
    "NB = MultinomialNB(alpha = 1.0)\n",
    "NB.fit(data_train_count,label_train)"
   ]
  },
  {
   "cell_type": "code",
   "execution_count": 46,
   "metadata": {},
   "outputs": [],
   "source": [
    "data_test_count = vec.transform(data_test.post_message)\n",
    "label_pred = NB.predict(data_test_count)"
   ]
  },
  {
   "cell_type": "code",
   "execution_count": 47,
   "metadata": {
    "scrolled": false
   },
   "outputs": [
    {
     "name": "stdout",
     "output_type": "stream",
     "text": [
      "Training size = 2717, accuracy = 82.65%\n",
      "\n",
      "Confusion matrix:\n",
      " [[562   6]\n",
      " [112   0]]\n",
      "              precision    recall  f1-score   support\n",
      "\n",
      "           0       0.83      0.99      0.90       568\n",
      "           1       0.00      0.00      0.00       112\n",
      "\n",
      "    accuracy                           0.83       680\n",
      "   macro avg       0.42      0.49      0.45       680\n",
      "weighted avg       0.70      0.83      0.76       680\n",
      "\n"
     ]
    }
   ],
   "source": [
    "print('Training size = %d, accuracy = %.2f%%\\n' % \\\n",
    "     (data_train_count.shape[0], accuracy_score(label_test, label_pred)*100))\n",
    "print('Confusion matrix:\\n', metrics.confusion_matrix(label_test, label_pred))\n",
    "print(metrics.classification_report(label_test, label_pred))"
   ]
  },
  {
   "cell_type": "code",
   "execution_count": 48,
   "metadata": {},
   "outputs": [
    {
     "data": {
      "text/plain": [
       "0.8352941176470589"
      ]
     },
     "execution_count": 48,
     "metadata": {},
     "output_type": "execute_result"
    }
   ],
   "source": [
    "from sklearn.pipeline import Pipeline\n",
    "clf = Pipeline([\n",
    "    ('cv', CountVectorizer(ngram_range=(1,3))),\n",
    "    ('tfidf', TfidfTransformer()),\n",
    "    ('nb', MultinomialNB())\n",
    "])\n",
    "clf.fit(data_train.post_message, label_train)\n",
    "clf.score(data_test.post_message, label_test)"
   ]
  },
  {
   "cell_type": "code",
   "execution_count": null,
   "metadata": {},
   "outputs": [],
   "source": []
  },
  {
   "cell_type": "code",
   "execution_count": null,
   "metadata": {},
   "outputs": [],
   "source": []
  },
  {
   "cell_type": "code",
   "execution_count": null,
   "metadata": {},
   "outputs": [],
   "source": []
  },
  {
   "cell_type": "code",
   "execution_count": null,
   "metadata": {},
   "outputs": [],
   "source": []
  },
  {
   "cell_type": "code",
   "execution_count": null,
   "metadata": {},
   "outputs": [],
   "source": []
  },
  {
   "cell_type": "code",
   "execution_count": null,
   "metadata": {},
   "outputs": [],
   "source": []
  },
  {
   "cell_type": "code",
   "execution_count": null,
   "metadata": {},
   "outputs": [],
   "source": []
  }
 ],
 "metadata": {
  "kernelspec": {
   "display_name": "Python 3",
   "language": "python",
   "name": "python3"
  },
  "language_info": {
   "codemirror_mode": {
    "name": "ipython",
    "version": 3
   },
   "file_extension": ".py",
   "mimetype": "text/x-python",
   "name": "python",
   "nbconvert_exporter": "python",
   "pygments_lexer": "ipython3",
   "version": "3.8.5"
  }
 },
 "nbformat": 4,
 "nbformat_minor": 4
}

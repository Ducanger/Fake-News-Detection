{
 "cells": [
  {
   "cell_type": "code",
   "execution_count": 29,
   "metadata": {},
   "outputs": [],
   "source": [
    "import pandas as pd\n",
    "import numpy as np\n",
    "from sklearn import metrics\n",
    "from sklearn.metrics import accuracy_score\n"
   ]
  },
  {
   "cell_type": "code",
   "execution_count": 30,
   "metadata": {
    "scrolled": true
   },
   "outputs": [],
   "source": [
    "df = pd.read_csv(r'D:\\Fake News Detection\\Data\\data.csv') "
   ]
  },
  {
   "cell_type": "code",
   "execution_count": 31,
   "metadata": {},
   "outputs": [],
   "source": [
    "#df.drop(['stt','id','timestamp_post'], axis='columns', inplace=True)"
   ]
  },
  {
   "cell_type": "code",
   "execution_count": 32,
   "metadata": {
    "scrolled": false
   },
   "outputs": [
    {
     "name": "stdout",
     "output_type": "stream",
     "text": [
      "thăng cấp_bậc hàm cán_bộ chiến sỹ hy_sinh đà nẵng đại_tướng tô lâm bộ_trưởng công_an ký quyết_định qđ bcax thăng cấp_bậc hàm đại_úi thiếu_tá đồng_chí đặng_thanh tuấn thiếu_tướng vũ xuân_viên giám_đốc công_an thành_phố đà nẵng ký quyết_định qđ cathành phố thăng cấp_bậc hàm trung_sĩ thượng sỹ đồng_chí võ văn toàn cán_bộ chiến sỹ hy_sinh nhiệm_vụ an_ninh trật_tự phòng_chống tội_phạm địa_bàn thành_phố đà nẵng h công_an thành_phố đà nẵng báo nhân_dân đối_tượng đua xe cướp_giật đi đường khu_vực sơn_trà bối_cảnh toàn_quốc cách_li xã_hội chỉ_thị thủ_tướng chính_phủ công_an thành_phố đà nẵng chỉ_đạo công_an sơn_trà triển_khai lực_lượng truy bắt đối_tượng truy_đuổi đối_tượng đại_úi đặng_thanh_tuấn trung_sĩ võ văn toàn_bị tai_nạn hy_sinh ảnh ttxviệt nam 19477 378 173\n"
     ]
    }
   ],
   "source": [
    "#inputs = df.drop(['label'], axis='columns')\n",
    "inputs = df.post_message + ' ' + df.num_like_post.astype(str) \n",
    "inputs = inputs + ' ' + df.num_comment_post.astype(str) \n",
    "inputs = inputs + ' ' + df.num_share_post.astype(str) \n",
    "#inputs.head()\n",
    "print(inputs[0])"
   ]
  },
  {
   "cell_type": "code",
   "execution_count": 33,
   "metadata": {
    "scrolled": true
   },
   "outputs": [],
   "source": [
    "#print(inputs.post_message[0])"
   ]
  },
  {
   "cell_type": "code",
   "execution_count": 34,
   "metadata": {
    "scrolled": true
   },
   "outputs": [],
   "source": [
    "from sklearn.model_selection import train_test_split\n",
    "data_train, data_test, label_train, label_test = train_test_split(inputs, df.label, test_size=0.2, random_state = 42)"
   ]
  },
  {
   "cell_type": "code",
   "execution_count": 35,
   "metadata": {
    "scrolled": false
   },
   "outputs": [],
   "source": [
    "from sklearn.feature_extraction.text import CountVectorizer,TfidfVectorizer, TfidfTransformer\n",
    "cv = CountVectorizer(ngram_range=(1,2))     #max_features=5000\n",
    "data_train_count = cv.fit_transform(data_train)\n",
    "data_test_count = cv.transform(data_test)\n",
    "#vec.get_feature_names()[:100]\n",
    "#print(data_train_count.toarray())"
   ]
  },
  {
   "cell_type": "code",
   "execution_count": 36,
   "metadata": {
    "scrolled": true
   },
   "outputs": [
    {
     "data": {
      "text/plain": [
       "(2713, 114659)"
      ]
     },
     "execution_count": 36,
     "metadata": {},
     "output_type": "execute_result"
    }
   ],
   "source": [
    "data_train_count.shape"
   ]
  },
  {
   "cell_type": "code",
   "execution_count": 37,
   "metadata": {
    "scrolled": false
   },
   "outputs": [
    {
     "data": {
      "text/plain": [
       "MultinomialNB()"
      ]
     },
     "execution_count": 37,
     "metadata": {},
     "output_type": "execute_result"
    }
   ],
   "source": [
    "from sklearn.naive_bayes import MultinomialNB\n",
    "NB = MultinomialNB()\n",
    "NB.fit(data_train_count,label_train)"
   ]
  },
  {
   "cell_type": "code",
   "execution_count": 38,
   "metadata": {
    "scrolled": true
   },
   "outputs": [],
   "source": [
    "label_pred = NB.predict(data_test_count)"
   ]
  },
  {
   "cell_type": "code",
   "execution_count": 39,
   "metadata": {
    "scrolled": true
   },
   "outputs": [
    {
     "name": "stdout",
     "output_type": "stream",
     "text": [
      "Training size = 2713, accuracy = 81.44%\n",
      "\n",
      "Confusion matrix:\n",
      " [[553   6]\n",
      " [120   0]]\n",
      "              precision    recall  f1-score   support\n",
      "\n",
      "           0       0.82      0.99      0.90       559\n",
      "           1       0.00      0.00      0.00       120\n",
      "\n",
      "    accuracy                           0.81       679\n",
      "   macro avg       0.41      0.49      0.45       679\n",
      "weighted avg       0.68      0.81      0.74       679\n",
      "\n"
     ]
    }
   ],
   "source": [
    "print('Training size = %d, accuracy = %.2f%%\\n' % \\\n",
    "     (data_train_count.shape[0], accuracy_score(label_test, label_pred)*100))\n",
    "print('Confusion matrix:\\n', metrics.confusion_matrix(label_test, label_pred))\n",
    "print(metrics.classification_report(label_test, label_pred))"
   ]
  },
  {
   "cell_type": "code",
   "execution_count": 40,
   "metadata": {
    "scrolled": true
   },
   "outputs": [],
   "source": [
    "from sklearn.linear_model import LogisticRegression, SGDClassifier\n",
    "from sklearn.ensemble import RandomForestClassifier\n",
    "from sklearn.svm import LinearSVC\n",
    "from sklearn.tree import DecisionTreeClassifier\n",
    "from sklearn.linear_model import PassiveAggressiveClassifier\n",
    "from sklearn.pipeline import Pipeline\n",
    "clf = Pipeline([\n",
    "    ('cv', CountVectorizer(ngram_range=(1,2))),\n",
    "    ('tfidf', TfidfTransformer()),\n",
    "    ('model', MultinomialNB()) \n",
    "    #LogisticRegression() RandomForestClassifier() MultinomialNB() LinearSVC(C=1.0, max_iter=1000) SGDClassifier()\n",
    "])"
   ]
  },
  {
   "cell_type": "code",
   "execution_count": 41,
   "metadata": {
    "scrolled": true
   },
   "outputs": [
    {
     "data": {
      "text/plain": [
       "0.8232695139911634"
      ]
     },
     "execution_count": 41,
     "metadata": {},
     "output_type": "execute_result"
    }
   ],
   "source": [
    "clf.fit(data_train, label_train)\n",
    "clf.score(data_test, label_test)"
   ]
  },
  {
   "cell_type": "code",
   "execution_count": 42,
   "metadata": {},
   "outputs": [
    {
     "data": {
      "text/plain": [
       "\"\\nfrom sklearn.model_selection import GridSearchCV\\nparam_grid = {'cv__ngram_range': [(1, 1), (1, 2), (1,3)],\\n              'tfidf__use_idf': (True, False),\\n              'nb__alpha': [1, 0,5, 0.1, 0.01, 0.001, 0.0001]}\\ngrid = GridSearchCV(clf, param_grid, n_jobs=-1)\\ngrid.fit(data_train.post_message,label_train)\\nprint(grid.best_params_) \\ngrid_pred = grid.predict(data_test.post_message)  \\nprint(metrics.classification_report(label_test, grid_pred)) \\n\""
      ]
     },
     "execution_count": 42,
     "metadata": {},
     "output_type": "execute_result"
    }
   ],
   "source": [
    "\"\"\"\n",
    "from sklearn.model_selection import GridSearchCV\n",
    "param_grid = {'cv__ngram_range': [(1, 1), (1, 2), (1,3)],\n",
    "              'tfidf__use_idf': (True, False),\n",
    "              'nb__alpha': [1, 0,5, 0.1, 0.01, 0.001, 0.0001]}\n",
    "grid = GridSearchCV(clf, param_grid, n_jobs=-1)\n",
    "grid.fit(data_train.post_message,label_train)\n",
    "print(grid.best_params_) \n",
    "grid_pred = grid.predict(data_test.post_message)  \n",
    "print(metrics.classification_report(label_test, grid_pred)) \n",
    "\"\"\""
   ]
  },
  {
   "cell_type": "code",
   "execution_count": null,
   "metadata": {},
   "outputs": [],
   "source": []
  },
  {
   "cell_type": "code",
   "execution_count": null,
   "metadata": {},
   "outputs": [],
   "source": []
  },
  {
   "cell_type": "code",
   "execution_count": null,
   "metadata": {},
   "outputs": [],
   "source": []
  },
  {
   "cell_type": "code",
   "execution_count": null,
   "metadata": {},
   "outputs": [],
   "source": []
  }
 ],
 "metadata": {
  "kernelspec": {
   "display_name": "Python 3",
   "language": "python",
   "name": "python3"
  },
  "language_info": {
   "codemirror_mode": {
    "name": "ipython",
    "version": 3
   },
   "file_extension": ".py",
   "mimetype": "text/x-python",
   "name": "python",
   "nbconvert_exporter": "python",
   "pygments_lexer": "ipython3",
   "version": "3.8.5"
  }
 },
 "nbformat": 4,
 "nbformat_minor": 4
}

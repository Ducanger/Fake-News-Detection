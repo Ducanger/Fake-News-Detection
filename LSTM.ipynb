{
 "cells": [
  {
   "cell_type": "code",
   "execution_count": 43,
   "metadata": {
    "scrolled": true
   },
   "outputs": [],
   "source": [
    "import pandas as pd\n",
    "import numpy as np\n",
    "from sklearn import metrics\n",
    "from sklearn.metrics import accuracy_score\n",
    "import tensorflow as tf\n",
    "from tensorflow import keras\n",
    "from tensorflow.keras.layers import Embedding,LSTM,Dense,Dropout\n",
    "from keras.preprocessing.sequence import pad_sequences\n",
    "from keras.preprocessing.text import one_hot\n",
    "from tensorflow.keras.models import Sequential\n",
    "from keras import layers"
   ]
  },
  {
   "cell_type": "code",
   "execution_count": 44,
   "metadata": {},
   "outputs": [],
   "source": [
    "df = pd.read_csv(r'D:\\Fake News Detection\\Data\\data.csv') "
   ]
  },
  {
   "cell_type": "code",
   "execution_count": 45,
   "metadata": {},
   "outputs": [],
   "source": [
    "#df.drop(['stt','id','timestamp_post'], axis='columns', inplace=True)"
   ]
  },
  {
   "cell_type": "code",
   "execution_count": 46,
   "metadata": {},
   "outputs": [],
   "source": [
    "#inputs = df.drop('label',axis='columns')\n",
    "import re\n",
    "from nltk.corpus import stopwords\n",
    "from nltk.stem.porter import PorterStemmer\n",
    "\n",
    "ps = PorterStemmer()\n",
    "corpus = []\n",
    "for i in range(0, len(df)):\n",
    "    review = df.post_message[i]\n",
    "    review = review.split()\n",
    "    review = ' '.join(review)\n",
    "    corpus.append(review)\n",
    "#inputs.head()"
   ]
  },
  {
   "cell_type": "code",
   "execution_count": 47,
   "metadata": {},
   "outputs": [],
   "source": [
    "one_hotrep = [one_hot(word, 50000) for word in corpus]\n",
    "padding = pad_sequences(one_hotrep, maxlen = 25, padding = 'pre')\n",
    "#one_hotrep"
   ]
  },
  {
   "cell_type": "code",
   "execution_count": 48,
   "metadata": {},
   "outputs": [],
   "source": [
    "embedding_vector_features = 40\n",
    "model = Sequential()\n",
    "model.add(Embedding(50000,embedding_vector_features,input_length=25))\n",
    "model.add(Dropout(0.3))\n",
    "model.add(LSTM(100))\n",
    "model.add(Dropout(0.3))\n",
    "model.add(Dense(64,activation='relu'))\n",
    "model.add(Dropout(0.3))\n",
    "model.add(Dense(1,activation='sigmoid'))\n",
    "model.compile(loss = 'binary_crossentropy', optimizer = 'adam', metrics = ['accuracy'])"
   ]
  },
  {
   "cell_type": "code",
   "execution_count": 49,
   "metadata": {
    "scrolled": true
   },
   "outputs": [
    {
     "name": "stdout",
     "output_type": "stream",
     "text": [
      "Model: \"sequential_6\"\n",
      "_________________________________________________________________\n",
      "Layer (type)                 Output Shape              Param #   \n",
      "=================================================================\n",
      "embedding_5 (Embedding)      (None, 25, 40)            2000000   \n",
      "_________________________________________________________________\n",
      "dropout_15 (Dropout)         (None, 25, 40)            0         \n",
      "_________________________________________________________________\n",
      "lstm_5 (LSTM)                (None, 100)               56400     \n",
      "_________________________________________________________________\n",
      "dropout_16 (Dropout)         (None, 100)               0         \n",
      "_________________________________________________________________\n",
      "dense_10 (Dense)             (None, 64)                6464      \n",
      "_________________________________________________________________\n",
      "dropout_17 (Dropout)         (None, 64)                0         \n",
      "_________________________________________________________________\n",
      "dense_11 (Dense)             (None, 1)                 65        \n",
      "=================================================================\n",
      "Total params: 2,062,929\n",
      "Trainable params: 2,062,929\n",
      "Non-trainable params: 0\n",
      "_________________________________________________________________\n"
     ]
    }
   ],
   "source": [
    "model.summary()"
   ]
  },
  {
   "cell_type": "code",
   "execution_count": 50,
   "metadata": {},
   "outputs": [
    {
     "data": {
      "text/plain": [
       "(2713, 25)"
      ]
     },
     "execution_count": 50,
     "metadata": {},
     "output_type": "execute_result"
    }
   ],
   "source": [
    "from sklearn.model_selection import train_test_split\n",
    "inputs = np.array(padding)\n",
    "label = np.array(df.label)\n",
    "X_train, X_test, y_train, y_test = train_test_split(inputs, label, test_size = 0.2)\n",
    "X_train.shape"
   ]
  },
  {
   "cell_type": "code",
   "execution_count": 51,
   "metadata": {
    "scrolled": true
   },
   "outputs": [
    {
     "name": "stdout",
     "output_type": "stream",
     "text": [
      "Epoch 1/10\n",
      "43/43 [==============================] - 3s 60ms/step - loss: 0.5321 - accuracy: 0.8161 - val_loss: 0.4605 - val_accuracy: 0.8277\n",
      "Epoch 2/10\n",
      "43/43 [==============================] - 2s 43ms/step - loss: 0.4574 - accuracy: 0.8242 - val_loss: 0.4724 - val_accuracy: 0.8277\n",
      "Epoch 3/10\n",
      "43/43 [==============================] - 2s 42ms/step - loss: 0.4095 - accuracy: 0.8253 - val_loss: 0.5569 - val_accuracy: 0.8218\n",
      "Epoch 4/10\n",
      "43/43 [==============================] - 2s 42ms/step - loss: 0.3081 - accuracy: 0.8703 - val_loss: 0.6201 - val_accuracy: 0.7644\n",
      "Epoch 5/10\n",
      "43/43 [==============================] - 2s 44ms/step - loss: 0.2358 - accuracy: 0.9049 - val_loss: 0.7364 - val_accuracy: 0.7393\n",
      "Epoch 6/10\n",
      "43/43 [==============================] - 2s 52ms/step - loss: 0.1672 - accuracy: 0.9381 - val_loss: 0.8593 - val_accuracy: 0.7541\n",
      "Epoch 7/10\n",
      "43/43 [==============================] - 2s 53ms/step - loss: 0.1330 - accuracy: 0.9506 - val_loss: 0.9569 - val_accuracy: 0.7791\n",
      "Epoch 8/10\n",
      "43/43 [==============================] - 2s 43ms/step - loss: 0.1047 - accuracy: 0.9613 - val_loss: 1.1182 - val_accuracy: 0.7585\n",
      "Epoch 9/10\n",
      "43/43 [==============================] - 2s 54ms/step - loss: 0.0874 - accuracy: 0.9701 - val_loss: 1.4360 - val_accuracy: 0.7320\n",
      "Epoch 10/10\n",
      "43/43 [==============================] - 2s 42ms/step - loss: 0.0668 - accuracy: 0.9742 - val_loss: 1.4081 - val_accuracy: 0.7275\n"
     ]
    },
    {
     "data": {
      "text/plain": [
       "<tensorflow.python.keras.callbacks.History at 0x28e48855610>"
      ]
     },
     "execution_count": 51,
     "metadata": {},
     "output_type": "execute_result"
    }
   ],
   "source": [
    "model.fit(X_train, y_train, validation_data = (X_test, y_test), epochs = 10, batch_size = 64)"
   ]
  },
  {
   "cell_type": "code",
   "execution_count": 52,
   "metadata": {},
   "outputs": [
    {
     "data": {
      "text/plain": [
       "0.727540500736377"
      ]
     },
     "execution_count": 52,
     "metadata": {},
     "output_type": "execute_result"
    }
   ],
   "source": [
    "y_pred = model.predict_classes(X_test)\n",
    "metrics.accuracy_score(y_test, y_pred)"
   ]
  },
  {
   "cell_type": "code",
   "execution_count": 53,
   "metadata": {},
   "outputs": [],
   "source": [
    "#print('Training size = %d, accuracy = %.2f%%\\n' % \\\n",
    "#     (X_train.shape[0], accuracy_score(y_test, y_pred)*100))\n",
    "#print('Confusion matrix:\\n', metrics.confusion_matrix(label_test, label_pred))\n",
    "#print(metrics.classification_report(label_test, label_pred))"
   ]
  },
  {
   "cell_type": "code",
   "execution_count": null,
   "metadata": {},
   "outputs": [],
   "source": []
  },
  {
   "cell_type": "code",
   "execution_count": null,
   "metadata": {},
   "outputs": [],
   "source": []
  },
  {
   "cell_type": "code",
   "execution_count": null,
   "metadata": {},
   "outputs": [],
   "source": []
  }
 ],
 "metadata": {
  "kernelspec": {
   "display_name": "Python 3",
   "language": "python",
   "name": "python3"
  },
  "language_info": {
   "codemirror_mode": {
    "name": "ipython",
    "version": 3
   },
   "file_extension": ".py",
   "mimetype": "text/x-python",
   "name": "python",
   "nbconvert_exporter": "python",
   "pygments_lexer": "ipython3",
   "version": "3.8.5"
  }
 },
 "nbformat": 4,
 "nbformat_minor": 4
}

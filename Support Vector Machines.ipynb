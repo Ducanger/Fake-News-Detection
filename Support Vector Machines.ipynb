{
 "cells": [
  {
   "cell_type": "code",
   "execution_count": 34,
   "metadata": {},
   "outputs": [],
   "source": [
    "import pandas as pd\n",
    "from sklearn import metrics\n",
    "from sklearn.metrics import accuracy_score"
   ]
  },
  {
   "cell_type": "code",
   "execution_count": 35,
   "metadata": {},
   "outputs": [],
   "source": [
    "df = pd.read_csv(r'D:\\Fake News Detection\\Data\\data.csv') "
   ]
  },
  {
   "cell_type": "code",
   "execution_count": 36,
   "metadata": {
    "scrolled": true
   },
   "outputs": [],
   "source": [
    "#df.drop(['stt','id','timestamp_post'], axis='columns', inplace=True)"
   ]
  },
  {
   "cell_type": "code",
   "execution_count": 37,
   "metadata": {
    "scrolled": true
   },
   "outputs": [
    {
     "data": {
      "text/html": [
       "<div>\n",
       "<style scoped>\n",
       "    .dataframe tbody tr th:only-of-type {\n",
       "        vertical-align: middle;\n",
       "    }\n",
       "\n",
       "    .dataframe tbody tr th {\n",
       "        vertical-align: top;\n",
       "    }\n",
       "\n",
       "    .dataframe thead th {\n",
       "        text-align: right;\n",
       "    }\n",
       "</style>\n",
       "<table border=\"1\" class=\"dataframe\">\n",
       "  <thead>\n",
       "    <tr style=\"text-align: right;\">\n",
       "      <th></th>\n",
       "      <th>Unnamed: 0</th>\n",
       "      <th>post_message</th>\n",
       "      <th>num_like_post</th>\n",
       "      <th>num_comment_post</th>\n",
       "      <th>num_share_post</th>\n",
       "    </tr>\n",
       "  </thead>\n",
       "  <tbody>\n",
       "    <tr>\n",
       "      <th>0</th>\n",
       "      <td>0</td>\n",
       "      <td>thăng cấp_bậc hàm cán_bộ chiến sỹ hy_sinh đà n...</td>\n",
       "      <td>19477</td>\n",
       "      <td>378</td>\n",
       "      <td>173</td>\n",
       "    </tr>\n",
       "    <tr>\n",
       "      <th>1</th>\n",
       "      <td>1</td>\n",
       "      <td>tư_vấn mùa thi nộp hồ_sơ trúng_tuyển chương_tr...</td>\n",
       "      <td>11</td>\n",
       "      <td>5</td>\n",
       "      <td>3</td>\n",
       "    </tr>\n",
       "    <tr>\n",
       "      <th>2</th>\n",
       "      <td>2</td>\n",
       "      <td>cơ_quan cạnh_tranh thị_trường quyết_định điều_...</td>\n",
       "      <td>48</td>\n",
       "      <td>5</td>\n",
       "      <td>19</td>\n",
       "    </tr>\n",
       "    <tr>\n",
       "      <th>3</th>\n",
       "      <td>3</td>\n",
       "      <td>ca quảng_nam hành_khách chuyến bay bệnh_nhân n...</td>\n",
       "      <td>3</td>\n",
       "      <td>0</td>\n",
       "      <td>0</td>\n",
       "    </tr>\n",
       "    <tr>\n",
       "      <th>4</th>\n",
       "      <td>4</td>\n",
       "      <td>học_thể dụ ‌ c thầy_giáo nguyễn_văn_quân phụ t...</td>\n",
       "      <td>775</td>\n",
       "      <td>0</td>\n",
       "      <td>54</td>\n",
       "    </tr>\n",
       "  </tbody>\n",
       "</table>\n",
       "</div>"
      ],
      "text/plain": [
       "   Unnamed: 0                                       post_message  \\\n",
       "0           0  thăng cấp_bậc hàm cán_bộ chiến sỹ hy_sinh đà n...   \n",
       "1           1  tư_vấn mùa thi nộp hồ_sơ trúng_tuyển chương_tr...   \n",
       "2           2  cơ_quan cạnh_tranh thị_trường quyết_định điều_...   \n",
       "3           3  ca quảng_nam hành_khách chuyến bay bệnh_nhân n...   \n",
       "4           4  học_thể dụ ‌ c thầy_giáo nguyễn_văn_quân phụ t...   \n",
       "\n",
       "  num_like_post num_comment_post num_share_post  \n",
       "0         19477              378            173  \n",
       "1            11                5              3  \n",
       "2            48                5             19  \n",
       "3             3                0              0  \n",
       "4           775                0             54  "
      ]
     },
     "execution_count": 37,
     "metadata": {},
     "output_type": "execute_result"
    }
   ],
   "source": [
    "inputs = df.drop('label',axis='columns')\n",
    "inputs.head()"
   ]
  },
  {
   "cell_type": "code",
   "execution_count": 38,
   "metadata": {},
   "outputs": [
    {
     "name": "stdout",
     "output_type": "stream",
     "text": [
      "thăng cấp_bậc hàm cán_bộ chiến sỹ hy_sinh đà nẵng đại_tướng tô lâm bộ_trưởng công_an ký quyết_định qđ bcax thăng cấp_bậc hàm đại_úi thiếu_tá đồng_chí đặng_thanh tuấn thiếu_tướng vũ xuân_viên giám_đốc công_an thành_phố đà nẵng ký quyết_định qđ cathành phố thăng cấp_bậc hàm trung_sĩ thượng sỹ đồng_chí võ văn toàn cán_bộ chiến sỹ hy_sinh nhiệm_vụ an_ninh trật_tự phòng_chống tội_phạm địa_bàn thành_phố đà nẵng h công_an thành_phố đà nẵng báo nhân_dân đối_tượng đua xe cướp_giật đi đường khu_vực sơn_trà bối_cảnh toàn_quốc cách_li xã_hội chỉ_thị thủ_tướng chính_phủ công_an thành_phố đà nẵng chỉ_đạo công_an sơn_trà triển_khai lực_lượng truy bắt đối_tượng truy_đuổi đối_tượng đại_úi đặng_thanh_tuấn trung_sĩ võ văn toàn_bị tai_nạn hy_sinh ảnh ttxviệt nam\n"
     ]
    }
   ],
   "source": [
    "print(inputs.post_message[0])"
   ]
  },
  {
   "cell_type": "code",
   "execution_count": 39,
   "metadata": {},
   "outputs": [],
   "source": [
    "from sklearn.model_selection import train_test_split\n",
    "data_train, data_test, label_train, label_test = train_test_split(inputs, df.label, test_size=0.2)"
   ]
  },
  {
   "cell_type": "code",
   "execution_count": 40,
   "metadata": {},
   "outputs": [
    {
     "data": {
      "text/plain": [
       "['_acid',\n",
       " '_acid dạ_dài',\n",
       " '_acid dạ_dài tiêu_diệt',\n",
       " '_ban',\n",
       " '_ban chỉ_đạo',\n",
       " '_ban chỉ_đạo quốc_gia',\n",
       " '_ban chỉ_đạo thảo_luận',\n",
       " '_ban chỉ_đạo thống_nhất',\n",
       " '_bước_',\n",
       " '_bước_ chụp',\n",
       " '_bước_ chụp ảnh',\n",
       " '_bước_ like',\n",
       " '_bước_ like follow',\n",
       " '_bộ',\n",
       " '_bộ công_thương',\n",
       " '_bộ công_thương cung',\n",
       " '_chuỗi',\n",
       " '_chuỗi siêu_thị',\n",
       " '_chuỗi siêu_thị mỹ',\n",
       " '_chàng',\n",
       " '_chàng ca_sĩ',\n",
       " '_chàng ca_sĩ nổi_tiếng',\n",
       " '_coronaviru',\n",
       " '_coronaviru dấu_hiệu',\n",
       " '_coronaviru dấu_hiệu lây_nhiễm',\n",
       " '_cười',\n",
       " '_cần',\n",
       " '_cần tiếng_nói',\n",
       " '_cần tiếng_nói cộng_đồng',\n",
       " '_dạ',\n",
       " '_dạ gái',\n",
       " '_dạ gái bay',\n",
       " '_dịch',\n",
       " '_dịch nha',\n",
       " '_dịch nha lui',\n",
       " '_dữ_liệu',\n",
       " '_dữ_liệu camera',\n",
       " '_dữ_liệu camera khu',\n",
       " '_dữ_liệu công_thương',\n",
       " '_dữ_liệu công_thương giá',\n",
       " '_dữ_liệu giá',\n",
       " '_dữ_liệu giá xăng_dầu',\n",
       " '_dữ_liệu lỗi_thời',\n",
       " '_dữ_liệu lỗi_thời mời',\n",
       " '_dữ_liệu viện',\n",
       " '_dữ_liệu viện dầu_khí',\n",
       " '_hoá',\n",
       " '_hoá biochem',\n",
       " '_hoá biochem trail',\n",
       " '_hên',\n",
       " '_hên vụ',\n",
       " '_hên vụ dân',\n",
       " '_hình',\n",
       " '_hình điện',\n",
       " '_hình điện đan',\n",
       " '_hòa_phát',\n",
       " '_hòa_phát cẩm_lệ',\n",
       " '_hòa_phát cẩm_lệ phạm',\n",
       " '_hòa_phát cẩm_lệ áp_dụng',\n",
       " '_hóa_an',\n",
       " '_hóa_an ên',\n",
       " '_hóa_an ên hòa',\n",
       " '_hóa_đơn',\n",
       " '_hóa_đơn tiền',\n",
       " '_hóa_đơn tiền điện',\n",
       " '_hải',\n",
       " '_hải chại',\n",
       " '_hải chại xe',\n",
       " '_hậu_lộc',\n",
       " '_hậu_lộc chủ',\n",
       " '_hậu_lộc chủ doanh_nghiệp',\n",
       " '_kỳ_hóa_đơn',\n",
       " '_kỳ_hóa_đơn phương_pháp',\n",
       " '_kỳ_hóa_đơn phương_pháp nội',\n",
       " '_liệu',\n",
       " '_liệu khoa_học',\n",
       " '_liệu khoa_học kim_chỉ_nam',\n",
       " '_liệu rót',\n",
       " '_liệu rót nghìn',\n",
       " '_liệu đi_đêm',\n",
       " '_liệu đi_đêm nhẹ',\n",
       " '_lượng',\n",
       " '_lượng hàng',\n",
       " '_lượng hàng kgngài',\n",
       " '_lượng thực_phẩm',\n",
       " '_lượng thực_phẩm đổ_đi',\n",
       " '_mác',\n",
       " '_mác ph',\n",
       " '_mác ph ăngghen',\n",
       " '_mạch',\n",
       " '_mạch lầnphút',\n",
       " '_mạch lầnphút huyết_áp',\n",
       " '_nguyễn_văn_huy_sn',\n",
       " '_nguyễn_văn_huy_sn ngụ',\n",
       " '_nguyễn_văn_huy_sn ngụ kiệt',\n",
       " '_nêu',\n",
       " '_nêu ý_kiến',\n",
       " '_nêu ý_kiến đại_biểu',\n",
       " '_nữ',\n",
       " '_nữ bệnh_nhân']"
      ]
     },
     "execution_count": 40,
     "metadata": {},
     "output_type": "execute_result"
    }
   ],
   "source": [
    "from sklearn.feature_extraction.text import CountVectorizer,TfidfVectorizer, TfidfTransformer\n",
    "vec = CountVectorizer(ngram_range=(1,3))     #max_features=5000\n",
    "data_train_count = vec.fit_transform(data_train.post_message)\n",
    "vec.get_feature_names()[:100]\n",
    "#print(data_train_count.toarray())"
   ]
  },
  {
   "cell_type": "code",
   "execution_count": 41,
   "metadata": {},
   "outputs": [
    {
     "data": {
      "text/plain": [
       "SVC(C=0.1, kernel='linear')"
      ]
     },
     "execution_count": 41,
     "metadata": {},
     "output_type": "execute_result"
    }
   ],
   "source": [
    "from sklearn.svm import SVC\n",
    "model = SVC(C =  0.1, gamma= 'scale', kernel= 'linear')\n",
    "model.fit(data_train_count,label_train)"
   ]
  },
  {
   "cell_type": "code",
   "execution_count": 42,
   "metadata": {},
   "outputs": [],
   "source": [
    "data_test_count = vec.transform(data_test.post_message)\n",
    "label_pred = model.predict(data_test_count)"
   ]
  },
  {
   "cell_type": "code",
   "execution_count": 43,
   "metadata": {
    "scrolled": true
   },
   "outputs": [
    {
     "name": "stdout",
     "output_type": "stream",
     "text": [
      "Training size = 2713, accuracy = 77.76%\n",
      "\n",
      "Confusion matrix:\n",
      " [[521  32]\n",
      " [119   7]]\n",
      "              precision    recall  f1-score   support\n",
      "\n",
      "           0       0.81      0.94      0.87       553\n",
      "           1       0.18      0.06      0.08       126\n",
      "\n",
      "    accuracy                           0.78       679\n",
      "   macro avg       0.50      0.50      0.48       679\n",
      "weighted avg       0.70      0.78      0.73       679\n",
      "\n"
     ]
    }
   ],
   "source": [
    "print('Training size = %d, accuracy = %.2f%%\\n' % \\\n",
    "     (data_train_count.shape[0], accuracy_score(label_test, label_pred)*100))\n",
    "print('Confusion matrix:\\n', metrics.confusion_matrix(label_test, label_pred))\n",
    "print(metrics.classification_report(label_test, label_pred))"
   ]
  },
  {
   "cell_type": "code",
   "execution_count": 44,
   "metadata": {
    "scrolled": false
   },
   "outputs": [
    {
     "data": {
      "text/plain": [
       "\"\\nfrom sklearn.model_selection import GridSearchCV\\nparam_grid = {'C': [0.1, 1, 10, 100],  \\n               'gamma': [1, 0.1, 0.01, 0.001, 0.0001], \\n               'gamma':['scale', 'auto'],\\n               'kernel': ['linear']}  \\n   \\ngrid = GridSearchCV(SVC(), param_grid, refit = True, verbose = 3,n_jobs=-1) \\ngrid.fit(data_train_count,label_train)\\nprint(grid.best_params_) \\ngrid_pred = grid.predict(data_test_count)  \\nprint(metrics.classification_report(label_test, grid_pred)) \\n\""
      ]
     },
     "execution_count": 44,
     "metadata": {},
     "output_type": "execute_result"
    }
   ],
   "source": [
    "\"\"\"\n",
    "from sklearn.model_selection import GridSearchCV\n",
    "param_grid = {'C': [0.1, 1, 10, 100],  \n",
    "               'gamma': [1, 0.1, 0.01, 0.001, 0.0001], \n",
    "               'gamma':['scale', 'auto'],\n",
    "               'kernel': ['linear']}  \n",
    "   \n",
    "grid = GridSearchCV(SVC(), param_grid, refit = True, verbose = 3,n_jobs=-1) \n",
    "grid.fit(data_train_count,label_train)\n",
    "print(grid.best_params_) \n",
    "grid_pred = grid.predict(data_test_count)  \n",
    "print(metrics.classification_report(label_test, grid_pred)) \n",
    "\"\"\""
   ]
  },
  {
   "cell_type": "code",
   "execution_count": null,
   "metadata": {},
   "outputs": [],
   "source": []
  },
  {
   "cell_type": "code",
   "execution_count": null,
   "metadata": {},
   "outputs": [],
   "source": []
  },
  {
   "cell_type": "code",
   "execution_count": null,
   "metadata": {},
   "outputs": [],
   "source": []
  },
  {
   "cell_type": "code",
   "execution_count": null,
   "metadata": {},
   "outputs": [],
   "source": []
  },
  {
   "cell_type": "code",
   "execution_count": null,
   "metadata": {},
   "outputs": [],
   "source": []
  },
  {
   "cell_type": "code",
   "execution_count": null,
   "metadata": {},
   "outputs": [],
   "source": []
  }
 ],
 "metadata": {
  "kernelspec": {
   "display_name": "Python 3",
   "language": "python",
   "name": "python3"
  },
  "language_info": {
   "codemirror_mode": {
    "name": "ipython",
    "version": 3
   },
   "file_extension": ".py",
   "mimetype": "text/x-python",
   "name": "python",
   "nbconvert_exporter": "python",
   "pygments_lexer": "ipython3",
   "version": "3.8.5"
  }
 },
 "nbformat": 4,
 "nbformat_minor": 4
}

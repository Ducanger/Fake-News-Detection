{
 "cells": [
  {
   "cell_type": "markdown",
   "metadata": {},
   "source": [
    "# Import Libaries"
   ]
  },
  {
   "cell_type": "code",
   "execution_count": 21,
   "metadata": {
    "colab": {
     "base_uri": "https://localhost:8080/"
    },
    "id": "KYJsdggiggZw",
    "outputId": "90a3e7e3-033d-46e5-e859-6d0fe29d5a63"
   },
   "outputs": [
    {
     "name": "stdout",
     "output_type": "stream",
     "text": [
      "Requirement already satisfied: transformers in c:\\users\\admin\\anaconda3\\lib\\site-packages (4.1.1)\n",
      "Requirement already satisfied: regex!=2019.12.17 in c:\\users\\admin\\appdata\\roaming\\python\\python38\\site-packages (from transformers) (2020.11.13)\n",
      "Requirement already satisfied: tqdm>=4.27 in c:\\users\\admin\\appdata\\roaming\\python\\python38\\site-packages (from transformers) (4.56.0)\n",
      "Requirement already satisfied: packaging in c:\\users\\admin\\anaconda3\\lib\\site-packages (from transformers) (20.4)\n",
      "Requirement already satisfied: numpy in c:\\users\\admin\\anaconda3\\lib\\site-packages (from transformers) (1.19.2)\n",
      "Requirement already satisfied: sacremoses in c:\\users\\admin\\anaconda3\\lib\\site-packages (from transformers) (0.0.43)\n",
      "Requirement already satisfied: requests in c:\\users\\admin\\anaconda3\\lib\\site-packages (from transformers) (2.24.0)\n",
      "Requirement already satisfied: tokenizers==0.9.4 in c:\\users\\admin\\anaconda3\\lib\\site-packages (from transformers) (0.9.4)\n",
      "Requirement already satisfied: filelock in c:\\users\\admin\\anaconda3\\lib\\site-packages (from transformers) (3.0.12)\n",
      "Requirement already satisfied: six in c:\\users\\admin\\anaconda3\\lib\\site-packages (from packaging->transformers) (1.15.0)\n",
      "Requirement already satisfied: pyparsing>=2.0.2 in c:\\users\\admin\\anaconda3\\lib\\site-packages (from packaging->transformers) (2.4.7)\n",
      "Requirement already satisfied: click in c:\\users\\admin\\appdata\\roaming\\python\\python38\\site-packages (from sacremoses->transformers) (7.1.2)\n",
      "Requirement already satisfied: joblib in c:\\users\\admin\\appdata\\roaming\\python\\python38\\site-packages (from sacremoses->transformers) (1.0.0)\n",
      "Requirement already satisfied: certifi>=2017.4.17 in c:\\users\\admin\\anaconda3\\lib\\site-packages (from requests->transformers) (2020.12.5)\n",
      "Requirement already satisfied: chardet<4,>=3.0.2 in c:\\users\\admin\\anaconda3\\lib\\site-packages (from requests->transformers) (3.0.4)\n",
      "Requirement already satisfied: urllib3!=1.25.0,!=1.25.1,<1.26,>=1.21.1 in c:\\users\\admin\\anaconda3\\lib\\site-packages (from requests->transformers) (1.25.11)\n",
      "Requirement already satisfied: idna<3,>=2.5 in c:\\users\\admin\\anaconda3\\lib\\site-packages (from requests->transformers) (2.10)\n",
      "Requirement already satisfied: catboost in c:\\users\\admin\\anaconda3\\lib\\site-packages (0.24.4)\n",
      "Requirement already satisfied: plotly in c:\\users\\admin\\anaconda3\\lib\\site-packages (from catboost) (4.14.3)\n",
      "Requirement already satisfied: matplotlib in c:\\users\\admin\\anaconda3\\lib\\site-packages (from catboost) (3.3.2)\n",
      "Requirement already satisfied: six in c:\\users\\admin\\anaconda3\\lib\\site-packages (from catboost) (1.15.0)\n",
      "Requirement already satisfied: scipy in c:\\users\\admin\\anaconda3\\lib\\site-packages (from catboost) (1.5.2)\n",
      "Requirement already satisfied: graphviz in c:\\users\\admin\\anaconda3\\lib\\site-packages (from catboost) (0.16)\n",
      "Requirement already satisfied: numpy>=1.16.0 in c:\\users\\admin\\anaconda3\\lib\\site-packages (from catboost) (1.19.2)\n",
      "Requirement already satisfied: pandas>=0.24.0 in c:\\users\\admin\\anaconda3\\lib\\site-packages (from catboost) (1.1.3)\n",
      "Requirement already satisfied: retrying>=1.3.3 in c:\\users\\admin\\anaconda3\\lib\\site-packages (from plotly->catboost) (1.3.3)\n",
      "Requirement already satisfied: certifi>=2020.06.20 in c:\\users\\admin\\anaconda3\\lib\\site-packages (from matplotlib->catboost) (2020.12.5)\n",
      "Requirement already satisfied: python-dateutil>=2.1 in c:\\users\\admin\\anaconda3\\lib\\site-packages (from matplotlib->catboost) (2.8.1)\n",
      "Requirement already satisfied: cycler>=0.10 in c:\\users\\admin\\anaconda3\\lib\\site-packages (from matplotlib->catboost) (0.10.0)\n",
      "Requirement already satisfied: pillow>=6.2.0 in c:\\users\\admin\\anaconda3\\lib\\site-packages (from matplotlib->catboost) (8.0.1)\n",
      "Requirement already satisfied: pyparsing!=2.0.4,!=2.1.2,!=2.1.6,>=2.0.3 in c:\\users\\admin\\anaconda3\\lib\\site-packages (from matplotlib->catboost) (2.4.7)\n",
      "Requirement already satisfied: kiwisolver>=1.0.1 in c:\\users\\admin\\anaconda3\\lib\\site-packages (from matplotlib->catboost) (1.3.0)\n",
      "Requirement already satisfied: pytz>=2017.2 in c:\\users\\admin\\anaconda3\\lib\\site-packages (from pandas>=0.24.0->catboost) (2020.1)\n",
      "Requirement already satisfied: lightgbm in c:\\users\\admin\\anaconda3\\lib\\site-packages (3.1.1)\n",
      "Requirement already satisfied: scikit-learn!=0.22.0 in c:\\users\\admin\\anaconda3\\lib\\site-packages (from lightgbm) (0.24.0)\n",
      "Requirement already satisfied: scipy in c:\\users\\admin\\anaconda3\\lib\\site-packages (from lightgbm) (1.5.2)\n",
      "Requirement already satisfied: wheel in c:\\users\\admin\\anaconda3\\lib\\site-packages (from lightgbm) (0.35.1)\n",
      "Requirement already satisfied: numpy in c:\\users\\admin\\anaconda3\\lib\\site-packages (from lightgbm) (1.19.2)\n",
      "Requirement already satisfied: threadpoolctl>=2.0.0 in c:\\users\\admin\\anaconda3\\lib\\site-packages (from scikit-learn!=0.22.0->lightgbm) (2.1.0)\n",
      "Requirement already satisfied: joblib>=0.11 in c:\\users\\admin\\appdata\\roaming\\python\\python38\\site-packages (from scikit-learn!=0.22.0->lightgbm) (1.0.0)\n",
      "Requirement already satisfied: xgboost in c:\\users\\admin\\anaconda3\\lib\\site-packages (1.3.3)\n",
      "Requirement already satisfied: scipy in c:\\users\\admin\\anaconda3\\lib\\site-packages (from xgboost) (1.5.2)\n",
      "Requirement already satisfied: numpy in c:\\users\\admin\\anaconda3\\lib\\site-packages (from xgboost) (1.19.2)\n"
     ]
    }
   ],
   "source": [
    "!pip install transformers\n",
    "!pip install catboost\n",
    "!pip install lightgbm\n",
    "!pip install xgboost"
   ]
  },
  {
   "cell_type": "code",
   "execution_count": 22,
   "metadata": {
    "colab": {
     "base_uri": "https://localhost:8080/"
    },
    "id": "RKRSewDpfd6D",
    "outputId": "cd566050-514d-4a3a-ac9b-f18af6352290"
   },
   "outputs": [],
   "source": [
    "import pandas as pd\n",
    "import numpy as np\n",
    "import torch\n",
    "from sklearn.model_selection import train_test_split, cross_val_score,  KFold\n",
    "from sklearn.decomposition import TruncatedSVD\n",
    "from transformers import AutoModel, AutoTokenizer\n",
    "from sklearn.feature_extraction.text import CountVectorizer,TfidfVectorizer, TfidfTransformer\n",
    "from sklearn import metrics\n",
    "from sklearn.metrics import accuracy_score\n",
    "from sklearn.pipeline import Pipeline\n",
    "from sklearn.naive_bayes import MultinomialNB\n",
    "from sklearn.linear_model import LogisticRegression, SGDClassifier, Perceptron\n",
    "from sklearn.ensemble import RandomForestClassifier, BaggingClassifier, VotingClassifier, StackingClassifier\n",
    "from sklearn.svm import LinearSVC, SVC\n",
    "from sklearn.tree import DecisionTreeClassifier\n",
    "from lightgbm import LGBMClassifier\n",
    "from catboost import CatBoostClassifier\n",
    "from xgboost import XGBClassifier"
   ]
  },
  {
   "cell_type": "markdown",
   "metadata": {
    "id": "UNpZS3Tntl85"
   },
   "source": [
    "# Load Data"
   ]
  },
  {
   "cell_type": "code",
   "execution_count": 23,
   "metadata": {
    "id": "5dy05Pfsg-9s"
   },
   "outputs": [],
   "source": [
    "df_train = pd.read_csv(r'D:\\Fake News Detection\\Data\\train.csv')\n",
    "df_train.drop(['id','user_name','user_name_labelEncoder','user_name_freq'], axis='columns', inplace=True)\n",
    "df_test = pd.read_csv(r'D:\\Fake News Detection\\Data\\test.csv')\n",
    "df_test.drop(['id','user_name','user_name_labelEncoder','user_name_freq'], axis='columns', inplace=True)"
   ]
  },
  {
   "cell_type": "code",
   "execution_count": 24,
   "metadata": {},
   "outputs": [
    {
     "name": "stdout",
     "output_type": "stream",
     "text": [
      "(4080, 5)\n"
     ]
    },
    {
     "data": {
      "text/html": [
       "<div>\n",
       "<style scoped>\n",
       "    .dataframe tbody tr th:only-of-type {\n",
       "        vertical-align: middle;\n",
       "    }\n",
       "\n",
       "    .dataframe tbody tr th {\n",
       "        vertical-align: top;\n",
       "    }\n",
       "\n",
       "    .dataframe thead th {\n",
       "        text-align: right;\n",
       "    }\n",
       "</style>\n",
       "<table border=\"1\" class=\"dataframe\">\n",
       "  <thead>\n",
       "    <tr style=\"text-align: right;\">\n",
       "      <th></th>\n",
       "      <th>post_message</th>\n",
       "      <th>num_like_post</th>\n",
       "      <th>num_comment_post</th>\n",
       "      <th>num_share_post</th>\n",
       "      <th>label</th>\n",
       "    </tr>\n",
       "  </thead>\n",
       "  <tbody>\n",
       "    <tr>\n",
       "      <th>0</th>\n",
       "      <td>Chủ_tịch UBND &lt; URL &gt; yêu_cầu Sở Nội_vụ &lt; URL ...</td>\n",
       "      <td>9</td>\n",
       "      <td>1</td>\n",
       "      <td>0.0</td>\n",
       "      <td>0</td>\n",
       "    </tr>\n",
       "    <tr>\n",
       "      <th>1</th>\n",
       "      <td>Ngày 28/6 , Công_an quận Đống_Đa ( Hà_Nội ) vừ...</td>\n",
       "      <td>30</td>\n",
       "      <td>0</td>\n",
       "      <td>3.0</td>\n",
       "      <td>0</td>\n",
       "    </tr>\n",
       "    <tr>\n",
       "      <th>2</th>\n",
       "      <td>COVID-19 đang tạo nên một tình_huống chưa từng...</td>\n",
       "      <td>10000</td>\n",
       "      <td>342</td>\n",
       "      <td>2900.0</td>\n",
       "      <td>0</td>\n",
       "    </tr>\n",
       "    <tr>\n",
       "      <th>3</th>\n",
       "      <td>Cuối_cùng cũng thừa_nhận ... Trích : “ Công_an...</td>\n",
       "      <td>64</td>\n",
       "      <td>14</td>\n",
       "      <td>4.0</td>\n",
       "      <td>0</td>\n",
       "    </tr>\n",
       "    <tr>\n",
       "      <th>4</th>\n",
       "      <td>Trung_Cộng đã quá vội_vã ? Tập_Cận_Bình trong ...</td>\n",
       "      <td>38</td>\n",
       "      <td>4</td>\n",
       "      <td>1.0</td>\n",
       "      <td>1</td>\n",
       "    </tr>\n",
       "  </tbody>\n",
       "</table>\n",
       "</div>"
      ],
      "text/plain": [
       "                                        post_message  num_like_post  \\\n",
       "0  Chủ_tịch UBND < URL > yêu_cầu Sở Nội_vụ < URL ...              9   \n",
       "1  Ngày 28/6 , Công_an quận Đống_Đa ( Hà_Nội ) vừ...             30   \n",
       "2  COVID-19 đang tạo nên một tình_huống chưa từng...          10000   \n",
       "3  Cuối_cùng cũng thừa_nhận ... Trích : “ Công_an...             64   \n",
       "4  Trung_Cộng đã quá vội_vã ? Tập_Cận_Bình trong ...             38   \n",
       "\n",
       "   num_comment_post  num_share_post  label  \n",
       "0                 1             0.0      0  \n",
       "1                 0             3.0      0  \n",
       "2               342          2900.0      0  \n",
       "3                14             4.0      0  \n",
       "4                 4             1.0      1  "
      ]
     },
     "execution_count": 24,
     "metadata": {},
     "output_type": "execute_result"
    }
   ],
   "source": [
    "print(df_train.shape)\n",
    "df_train.head()"
   ]
  },
  {
   "cell_type": "code",
   "execution_count": 25,
   "metadata": {},
   "outputs": [
    {
     "name": "stdout",
     "output_type": "stream",
     "text": [
      "(1020, 5)\n"
     ]
    },
    {
     "data": {
      "text/html": [
       "<div>\n",
       "<style scoped>\n",
       "    .dataframe tbody tr th:only-of-type {\n",
       "        vertical-align: middle;\n",
       "    }\n",
       "\n",
       "    .dataframe tbody tr th {\n",
       "        vertical-align: top;\n",
       "    }\n",
       "\n",
       "    .dataframe thead th {\n",
       "        text-align: right;\n",
       "    }\n",
       "</style>\n",
       "<table border=\"1\" class=\"dataframe\">\n",
       "  <thead>\n",
       "    <tr style=\"text-align: right;\">\n",
       "      <th></th>\n",
       "      <th>post_message</th>\n",
       "      <th>num_like_post</th>\n",
       "      <th>num_comment_post</th>\n",
       "      <th>num_share_post</th>\n",
       "      <th>label</th>\n",
       "    </tr>\n",
       "  </thead>\n",
       "  <tbody>\n",
       "    <tr>\n",
       "      <th>0</th>\n",
       "      <td>TƯ_VẤN MÙA_THI : Cách nộp hồ_sơ để trúng_tuyển...</td>\n",
       "      <td>48</td>\n",
       "      <td>5</td>\n",
       "      <td>19.0</td>\n",
       "      <td>0</td>\n",
       "    </tr>\n",
       "    <tr>\n",
       "      <th>1</th>\n",
       "      <td>Chủ đầu_tư tại Hà_Nội tung sản_phẩm có mức giá...</td>\n",
       "      <td>25</td>\n",
       "      <td>1</td>\n",
       "      <td>1.0</td>\n",
       "      <td>0</td>\n",
       "    </tr>\n",
       "    <tr>\n",
       "      <th>2</th>\n",
       "      <td>Trong 1 vụ xô_xát nhỏ thôi , em_trai này bị bắ...</td>\n",
       "      <td>170</td>\n",
       "      <td>51</td>\n",
       "      <td>68.0</td>\n",
       "      <td>1</td>\n",
       "    </tr>\n",
       "    <tr>\n",
       "      <th>3</th>\n",
       "      <td>VIỆT NAM ĐÃ CÓ 145 CA KHỎI COVID-19 Thông_tin ...</td>\n",
       "      <td>7393</td>\n",
       "      <td>13</td>\n",
       "      <td>236.0</td>\n",
       "      <td>0</td>\n",
       "    </tr>\n",
       "    <tr>\n",
       "      <th>4</th>\n",
       "      <td>1 . Nhiều thứ chúng_ta mong_mỏi có được lại có...</td>\n",
       "      <td>290</td>\n",
       "      <td>5</td>\n",
       "      <td>66.0</td>\n",
       "      <td>0</td>\n",
       "    </tr>\n",
       "  </tbody>\n",
       "</table>\n",
       "</div>"
      ],
      "text/plain": [
       "                                        post_message  num_like_post  \\\n",
       "0  TƯ_VẤN MÙA_THI : Cách nộp hồ_sơ để trúng_tuyển...             48   \n",
       "1  Chủ đầu_tư tại Hà_Nội tung sản_phẩm có mức giá...             25   \n",
       "2  Trong 1 vụ xô_xát nhỏ thôi , em_trai này bị bắ...            170   \n",
       "3  VIỆT NAM ĐÃ CÓ 145 CA KHỎI COVID-19 Thông_tin ...           7393   \n",
       "4  1 . Nhiều thứ chúng_ta mong_mỏi có được lại có...            290   \n",
       "\n",
       "   num_comment_post  num_share_post  label  \n",
       "0                 5            19.0      0  \n",
       "1                 1             1.0      0  \n",
       "2                51            68.0      1  \n",
       "3                13           236.0      0  \n",
       "4                 5            66.0      0  "
      ]
     },
     "execution_count": 25,
     "metadata": {},
     "output_type": "execute_result"
    }
   ],
   "source": [
    "print(df_test.shape)\n",
    "df_test.head()"
   ]
  },
  {
   "cell_type": "code",
   "execution_count": 26,
   "metadata": {
    "id": "P5nxx4wjtkVq"
   },
   "outputs": [],
   "source": [
    "data_train = df_train.post_message\n",
    "data_test = df_test.post_message\n",
    "label_train =  df_train.label\n",
    "label_test = df_test.label"
   ]
  },
  {
   "cell_type": "markdown",
   "metadata": {
    "id": "tTlaiL7lyavf"
   },
   "source": [
    "# Pretrain"
   ]
  },
  {
   "cell_type": "code",
   "execution_count": 27,
   "metadata": {
    "id": "PgrsUqKauQnB"
   },
   "outputs": [],
   "source": [
    "max_len_ids = 256\n",
    "def convert_samples_to_ids(texts, tokenizer, max_seq_length = max_len_ids):\n",
    "    input_ids, attention_masks = [], []\n",
    "    for line in texts:\n",
    "        inputs = tokenizer.encode_plus(line, padding = 'max_length', max_length = max_seq_length, truncation = True)\n",
    "        input_ids.append(inputs['input_ids'])\n",
    "        attention_masks.append(inputs['attention_mask'])\n",
    "\n",
    "    return torch.tensor(input_ids, dtype = torch.long)"
   ]
  },
  {
   "cell_type": "markdown",
   "metadata": {
    "id": "1nzYZodtwouF"
   },
   "source": [
    "**PhoBERT**"
   ]
  },
  {
   "cell_type": "code",
   "execution_count": 28,
   "metadata": {
    "colab": {
     "base_uri": "https://localhost:8080/",
     "height": 198,
     "referenced_widgets": [
      "17bc17f71b704d9ca389c2558dd53da2",
      "415ba56838af4120815634cb2ac3950d",
      "fefcdb5c42754402abc7bd6e30424fa9",
      "d51e22a2153c4d489ffd9c663870b264",
      "91ad3057140f43ab9eda40b47d2cdc71",
      "39f57a528a9a41a0845b3190546edb56",
      "71c2afc6bbd54465931864b8573339c2",
      "9081ed36779543eaa15de27df4be1653",
      "1edea55279964f2897e9560b31da0383",
      "7d79acc532fa4ec0b8e30683f13860d0",
      "746af17ad4994ccaafd06f7f1e4f03eb",
      "18053f974c9949f4b25ff0caa81a5250",
      "18005190397244eabd22b376c8dcebc9",
      "e310522aacaa43e9a647d08bcf895a8a",
      "58a789f02ef9424cad998fd949ae95fc",
      "e0b9b95138174f828fd85179ce83696d",
      "7534aed6b2134ea889e66376bda06d87",
      "a7b38d8a814d4b00a8e4cc04e52c8ccc",
      "af97ddfde4804f0ab4cfb3d7880eddf0",
      "ee4fb4fa9b7546f19dac007f8a2de367",
      "dfb7606582784c449583e503942701c3",
      "bf73124655734652b5eb61d5d9714857",
      "106b01fedb0e4d918cfefb772b36e009",
      "81dabae78fbf42f4ae5e576ce043f2c1"
     ]
    },
    "id": "h3_QOo-OuVxA",
    "outputId": "2a5501cc-e21c-43a6-b0e0-1dc0118bf877"
   },
   "outputs": [
    {
     "name": "stderr",
     "output_type": "stream",
     "text": [
      "Special tokens have been added in the vocabulary, make sure the associated word embedding are fine-tuned or trained.\n"
     ]
    },
    {
     "name": "stdout",
     "output_type": "stream",
     "text": [
      "torch.Size([4080, 256])\n"
     ]
    }
   ],
   "source": [
    "tokenizer = AutoTokenizer.from_pretrained(\"vinai/phobert-base\", use_fast=False)\n",
    "train_ids = convert_samples_to_ids (data_train, tokenizer)\n",
    "test_ids = convert_samples_to_ids (data_test, tokenizer)\n",
    "print (train_ids.shape)"
   ]
  },
  {
   "cell_type": "markdown",
   "metadata": {
    "id": "Rcf1PpwlwT90"
   },
   "source": [
    "**TF-IDF + SVD**"
   ]
  },
  {
   "cell_type": "code",
   "execution_count": 29,
   "metadata": {
    "colab": {
     "base_uri": "https://localhost:8080/"
    },
    "id": "Zw_wLs5Tv90C",
    "outputId": "0f18f94b-9411-4864-b24f-f40e06a4bfa8"
   },
   "outputs": [
    {
     "name": "stdout",
     "output_type": "stream",
     "text": [
      "(4080, 256)\n"
     ]
    }
   ],
   "source": [
    "max_len_tfidf = 256\n",
    "clf = Pipeline ([ ('tfidf', TfidfVectorizer()),\n",
    "                  ('svd', TruncatedSVD(n_components = max_len_tfidf, random_state=42)), ])\n",
    "\n",
    "train_tfidf = clf.fit_transform (data_train)\n",
    "test_tfidf = clf.transform (data_test)\n",
    "print(train_tfidf.shape)"
   ]
  },
  {
   "cell_type": "markdown",
   "metadata": {},
   "source": [
    "**Concat**"
   ]
  },
  {
   "cell_type": "code",
   "execution_count": 30,
   "metadata": {
    "colab": {
     "base_uri": "https://localhost:8080/"
    },
    "id": "sLisvUzjwSPE",
    "outputId": "90e61f30-1ebf-4960-9692-bca47f5b460a"
   },
   "outputs": [
    {
     "name": "stdout",
     "output_type": "stream",
     "text": [
      "(4080, 512)\n"
     ]
    }
   ],
   "source": [
    "X_train = np.concatenate((train_ids, (train_tfidf)), axis=1)\n",
    "X_test = np.concatenate((test_ids, (test_tfidf)), axis=1)\n",
    "y_train = label_train\n",
    "y_test = label_test\n",
    "print(X_train.shape)"
   ]
  },
  {
   "cell_type": "markdown",
   "metadata": {
    "id": "ElJC-fyyyfO_"
   },
   "source": [
    "# Model"
   ]
  },
  {
   "cell_type": "code",
   "execution_count": 31,
   "metadata": {
    "id": "byVn2t-wyHfv"
   },
   "outputs": [],
   "source": [
    "model = CatBoostClassifier(verbose = 100)\n",
    "# CatBoostClassifier() LGBMClassifier()  XGBClassifier()"
   ]
  },
  {
   "cell_type": "markdown",
   "metadata": {
    "id": "uvgNJXBC1axR"
   },
   "source": [
    "# Kfold"
   ]
  },
  {
   "cell_type": "code",
   "execution_count": 32,
   "metadata": {
    "colab": {
     "base_uri": "https://localhost:8080/"
    },
    "id": "lez7tTSr1fd8",
    "outputId": "4507c7f9-3aab-4808-9cc0-94c16fbe9f6f"
   },
   "outputs": [
    {
     "name": "stdout",
     "output_type": "stream",
     "text": [
      "Learning rate set to 0.017073\n",
      "0:\tlearn: 0.6811944\ttotal: 128ms\tremaining: 2m 7s\n",
      "100:\tlearn: 0.3695886\ttotal: 10.1s\tremaining: 1m 29s\n",
      "200:\tlearn: 0.3020149\ttotal: 19.9s\tremaining: 1m 18s\n",
      "300:\tlearn: 0.2594972\ttotal: 29.6s\tremaining: 1m 8s\n",
      "400:\tlearn: 0.2241694\ttotal: 39.2s\tremaining: 58.5s\n",
      "500:\tlearn: 0.1923478\ttotal: 49.9s\tremaining: 49.7s\n",
      "600:\tlearn: 0.1629117\ttotal: 58.4s\tremaining: 38.8s\n",
      "700:\tlearn: 0.1372685\ttotal: 1m 7s\tremaining: 28.8s\n",
      "800:\tlearn: 0.1168970\ttotal: 1m 16s\tremaining: 19s\n",
      "900:\tlearn: 0.0997928\ttotal: 1m 25s\tremaining: 9.44s\n",
      "999:\tlearn: 0.0851954\ttotal: 1m 35s\tremaining: 0us\n",
      "Learning rate set to 0.017073\n",
      "0:\tlearn: 0.6811807\ttotal: 119ms\tremaining: 1m 59s\n",
      "100:\tlearn: 0.3671807\ttotal: 9.08s\tremaining: 1m 20s\n",
      "200:\tlearn: 0.3025103\ttotal: 18.5s\tremaining: 1m 13s\n",
      "300:\tlearn: 0.2602848\ttotal: 27.7s\tremaining: 1m 4s\n",
      "400:\tlearn: 0.2262991\ttotal: 37.4s\tremaining: 55.8s\n",
      "500:\tlearn: 0.1933102\ttotal: 46.1s\tremaining: 45.9s\n",
      "600:\tlearn: 0.1628431\ttotal: 54.9s\tremaining: 36.5s\n",
      "700:\tlearn: 0.1367450\ttotal: 1m 4s\tremaining: 27.3s\n",
      "800:\tlearn: 0.1168789\ttotal: 1m 13s\tremaining: 18.1s\n",
      "900:\tlearn: 0.0990289\ttotal: 1m 21s\tremaining: 9s\n",
      "999:\tlearn: 0.0850590\ttotal: 1m 30s\tremaining: 0us\n",
      "Learning rate set to 0.017073\n",
      "0:\tlearn: 0.6826796\ttotal: 121ms\tremaining: 2m\n",
      "100:\tlearn: 0.3660270\ttotal: 8.57s\tremaining: 1m 16s\n",
      "200:\tlearn: 0.3011560\ttotal: 17s\tremaining: 1m 7s\n",
      "300:\tlearn: 0.2591187\ttotal: 25.9s\tremaining: 1m\n",
      "400:\tlearn: 0.2233152\ttotal: 35.2s\tremaining: 52.6s\n",
      "500:\tlearn: 0.1924137\ttotal: 44.7s\tremaining: 44.5s\n",
      "600:\tlearn: 0.1633072\ttotal: 53.9s\tremaining: 35.8s\n",
      "700:\tlearn: 0.1373911\ttotal: 1m 3s\tremaining: 27.1s\n",
      "800:\tlearn: 0.1152909\ttotal: 1m 12s\tremaining: 18.1s\n",
      "900:\tlearn: 0.0972039\ttotal: 1m 22s\tremaining: 9.02s\n",
      "999:\tlearn: 0.0833847\ttotal: 1m 31s\tremaining: 0us\n",
      "Learning rate set to 0.017073\n",
      "0:\tlearn: 0.6827291\ttotal: 116ms\tremaining: 1m 56s\n",
      "100:\tlearn: 0.3689343\ttotal: 9.12s\tremaining: 1m 21s\n",
      "200:\tlearn: 0.3030533\ttotal: 18.1s\tremaining: 1m 12s\n",
      "300:\tlearn: 0.2606574\ttotal: 27.4s\tremaining: 1m 3s\n",
      "400:\tlearn: 0.2264866\ttotal: 37.1s\tremaining: 55.5s\n",
      "500:\tlearn: 0.1942042\ttotal: 47.2s\tremaining: 47s\n",
      "600:\tlearn: 0.1655173\ttotal: 56.9s\tremaining: 37.8s\n",
      "700:\tlearn: 0.1389755\ttotal: 1m 6s\tremaining: 28.4s\n",
      "800:\tlearn: 0.1173928\ttotal: 1m 16s\tremaining: 19.1s\n",
      "900:\tlearn: 0.0990836\ttotal: 1m 27s\tremaining: 9.56s\n",
      "999:\tlearn: 0.0847188\ttotal: 1m 36s\tremaining: 0us\n",
      "Learning rate set to 0.017073\n",
      "0:\tlearn: 0.6826868\ttotal: 120ms\tremaining: 1m 59s\n",
      "100:\tlearn: 0.3671524\ttotal: 9.27s\tremaining: 1m 22s\n",
      "200:\tlearn: 0.3033700\ttotal: 18.5s\tremaining: 1m 13s\n",
      "300:\tlearn: 0.2605375\ttotal: 27.8s\tremaining: 1m 4s\n",
      "400:\tlearn: 0.2269695\ttotal: 36.9s\tremaining: 55.1s\n",
      "500:\tlearn: 0.1945698\ttotal: 46.7s\tremaining: 46.5s\n",
      "600:\tlearn: 0.1664904\ttotal: 56.9s\tremaining: 37.8s\n",
      "700:\tlearn: 0.1415484\ttotal: 1m 6s\tremaining: 28.5s\n",
      "800:\tlearn: 0.1190063\ttotal: 1m 16s\tremaining: 19s\n",
      "900:\tlearn: 0.1011524\ttotal: 1m 26s\tremaining: 9.45s\n",
      "999:\tlearn: 0.0868454\ttotal: 1m 35s\tremaining: 0us\n",
      "[0.91162675 0.90601006 0.88949858 0.91205612 0.89145728]\n",
      "0.9021\n"
     ]
    }
   ],
   "source": [
    "score = cross_val_score(model, X_train, y_train , cv=5, scoring = 'roc_auc')\n",
    "print(score)\n",
    "print(round(score.mean(),4))"
   ]
  }
 ],
 "metadata": {
  "accelerator": "GPU",
  "colab": {
   "collapsed_sections": [],
   "name": "PhoBert V2.ipynb",
   "provenance": []
  },
  "kernelspec": {
   "display_name": "Python 3",
   "language": "python",
   "name": "python3"
  },
  "language_info": {
   "codemirror_mode": {
    "name": "ipython",
    "version": 3
   },
   "file_extension": ".py",
   "mimetype": "text/x-python",
   "name": "python",
   "nbconvert_exporter": "python",
   "pygments_lexer": "ipython3",
   "version": "3.8.5"
  },
  "widgets": {
   "application/vnd.jupyter.widget-state+json": {
    "106b01fedb0e4d918cfefb772b36e009": {
     "model_module": "@jupyter-widgets/controls",
     "model_name": "DescriptionStyleModel",
     "state": {
      "_model_module": "@jupyter-widgets/controls",
      "_model_module_version": "1.5.0",
      "_model_name": "DescriptionStyleModel",
      "_view_count": null,
      "_view_module": "@jupyter-widgets/base",
      "_view_module_version": "1.2.0",
      "_view_name": "StyleView",
      "description_width": ""
     }
    },
    "17bc17f71b704d9ca389c2558dd53da2": {
     "model_module": "@jupyter-widgets/controls",
     "model_name": "HBoxModel",
     "state": {
      "_dom_classes": [],
      "_model_module": "@jupyter-widgets/controls",
      "_model_module_version": "1.5.0",
      "_model_name": "HBoxModel",
      "_view_count": null,
      "_view_module": "@jupyter-widgets/controls",
      "_view_module_version": "1.5.0",
      "_view_name": "HBoxView",
      "box_style": "",
      "children": [
       "IPY_MODEL_fefcdb5c42754402abc7bd6e30424fa9",
       "IPY_MODEL_d51e22a2153c4d489ffd9c663870b264"
      ],
      "layout": "IPY_MODEL_415ba56838af4120815634cb2ac3950d"
     }
    },
    "18005190397244eabd22b376c8dcebc9": {
     "model_module": "@jupyter-widgets/controls",
     "model_name": "ProgressStyleModel",
     "state": {
      "_model_module": "@jupyter-widgets/controls",
      "_model_module_version": "1.5.0",
      "_model_name": "ProgressStyleModel",
      "_view_count": null,
      "_view_module": "@jupyter-widgets/base",
      "_view_module_version": "1.2.0",
      "_view_name": "StyleView",
      "bar_color": null,
      "description_width": "initial"
     }
    },
    "18053f974c9949f4b25ff0caa81a5250": {
     "model_module": "@jupyter-widgets/controls",
     "model_name": "HTMLModel",
     "state": {
      "_dom_classes": [],
      "_model_module": "@jupyter-widgets/controls",
      "_model_module_version": "1.5.0",
      "_model_name": "HTMLModel",
      "_view_count": null,
      "_view_module": "@jupyter-widgets/controls",
      "_view_module_version": "1.5.0",
      "_view_name": "HTMLView",
      "description": "",
      "description_tooltip": null,
      "layout": "IPY_MODEL_e0b9b95138174f828fd85179ce83696d",
      "placeholder": "​",
      "style": "IPY_MODEL_58a789f02ef9424cad998fd949ae95fc",
      "value": " 895k/895k [00:00&lt;00:00, 6.81MB/s]"
     }
    },
    "1edea55279964f2897e9560b31da0383": {
     "model_module": "@jupyter-widgets/controls",
     "model_name": "HBoxModel",
     "state": {
      "_dom_classes": [],
      "_model_module": "@jupyter-widgets/controls",
      "_model_module_version": "1.5.0",
      "_model_name": "HBoxModel",
      "_view_count": null,
      "_view_module": "@jupyter-widgets/controls",
      "_view_module_version": "1.5.0",
      "_view_name": "HBoxView",
      "box_style": "",
      "children": [
       "IPY_MODEL_746af17ad4994ccaafd06f7f1e4f03eb",
       "IPY_MODEL_18053f974c9949f4b25ff0caa81a5250"
      ],
      "layout": "IPY_MODEL_7d79acc532fa4ec0b8e30683f13860d0"
     }
    },
    "39f57a528a9a41a0845b3190546edb56": {
     "model_module": "@jupyter-widgets/base",
     "model_name": "LayoutModel",
     "state": {
      "_model_module": "@jupyter-widgets/base",
      "_model_module_version": "1.2.0",
      "_model_name": "LayoutModel",
      "_view_count": null,
      "_view_module": "@jupyter-widgets/base",
      "_view_module_version": "1.2.0",
      "_view_name": "LayoutView",
      "align_content": null,
      "align_items": null,
      "align_self": null,
      "border": null,
      "bottom": null,
      "display": null,
      "flex": null,
      "flex_flow": null,
      "grid_area": null,
      "grid_auto_columns": null,
      "grid_auto_flow": null,
      "grid_auto_rows": null,
      "grid_column": null,
      "grid_gap": null,
      "grid_row": null,
      "grid_template_areas": null,
      "grid_template_columns": null,
      "grid_template_rows": null,
      "height": null,
      "justify_content": null,
      "justify_items": null,
      "left": null,
      "margin": null,
      "max_height": null,
      "max_width": null,
      "min_height": null,
      "min_width": null,
      "object_fit": null,
      "object_position": null,
      "order": null,
      "overflow": null,
      "overflow_x": null,
      "overflow_y": null,
      "padding": null,
      "right": null,
      "top": null,
      "visibility": null,
      "width": null
     }
    },
    "415ba56838af4120815634cb2ac3950d": {
     "model_module": "@jupyter-widgets/base",
     "model_name": "LayoutModel",
     "state": {
      "_model_module": "@jupyter-widgets/base",
      "_model_module_version": "1.2.0",
      "_model_name": "LayoutModel",
      "_view_count": null,
      "_view_module": "@jupyter-widgets/base",
      "_view_module_version": "1.2.0",
      "_view_name": "LayoutView",
      "align_content": null,
      "align_items": null,
      "align_self": null,
      "border": null,
      "bottom": null,
      "display": null,
      "flex": null,
      "flex_flow": null,
      "grid_area": null,
      "grid_auto_columns": null,
      "grid_auto_flow": null,
      "grid_auto_rows": null,
      "grid_column": null,
      "grid_gap": null,
      "grid_row": null,
      "grid_template_areas": null,
      "grid_template_columns": null,
      "grid_template_rows": null,
      "height": null,
      "justify_content": null,
      "justify_items": null,
      "left": null,
      "margin": null,
      "max_height": null,
      "max_width": null,
      "min_height": null,
      "min_width": null,
      "object_fit": null,
      "object_position": null,
      "order": null,
      "overflow": null,
      "overflow_x": null,
      "overflow_y": null,
      "padding": null,
      "right": null,
      "top": null,
      "visibility": null,
      "width": null
     }
    },
    "58a789f02ef9424cad998fd949ae95fc": {
     "model_module": "@jupyter-widgets/controls",
     "model_name": "DescriptionStyleModel",
     "state": {
      "_model_module": "@jupyter-widgets/controls",
      "_model_module_version": "1.5.0",
      "_model_name": "DescriptionStyleModel",
      "_view_count": null,
      "_view_module": "@jupyter-widgets/base",
      "_view_module_version": "1.2.0",
      "_view_name": "StyleView",
      "description_width": ""
     }
    },
    "71c2afc6bbd54465931864b8573339c2": {
     "model_module": "@jupyter-widgets/controls",
     "model_name": "DescriptionStyleModel",
     "state": {
      "_model_module": "@jupyter-widgets/controls",
      "_model_module_version": "1.5.0",
      "_model_name": "DescriptionStyleModel",
      "_view_count": null,
      "_view_module": "@jupyter-widgets/base",
      "_view_module_version": "1.2.0",
      "_view_name": "StyleView",
      "description_width": ""
     }
    },
    "746af17ad4994ccaafd06f7f1e4f03eb": {
     "model_module": "@jupyter-widgets/controls",
     "model_name": "FloatProgressModel",
     "state": {
      "_dom_classes": [],
      "_model_module": "@jupyter-widgets/controls",
      "_model_module_version": "1.5.0",
      "_model_name": "FloatProgressModel",
      "_view_count": null,
      "_view_module": "@jupyter-widgets/controls",
      "_view_module_version": "1.5.0",
      "_view_name": "ProgressView",
      "bar_style": "success",
      "description": "Downloading: 100%",
      "description_tooltip": null,
      "layout": "IPY_MODEL_e310522aacaa43e9a647d08bcf895a8a",
      "max": 895321,
      "min": 0,
      "orientation": "horizontal",
      "style": "IPY_MODEL_18005190397244eabd22b376c8dcebc9",
      "value": 895321
     }
    },
    "7534aed6b2134ea889e66376bda06d87": {
     "model_module": "@jupyter-widgets/controls",
     "model_name": "HBoxModel",
     "state": {
      "_dom_classes": [],
      "_model_module": "@jupyter-widgets/controls",
      "_model_module_version": "1.5.0",
      "_model_name": "HBoxModel",
      "_view_count": null,
      "_view_module": "@jupyter-widgets/controls",
      "_view_module_version": "1.5.0",
      "_view_name": "HBoxView",
      "box_style": "",
      "children": [
       "IPY_MODEL_af97ddfde4804f0ab4cfb3d7880eddf0",
       "IPY_MODEL_ee4fb4fa9b7546f19dac007f8a2de367"
      ],
      "layout": "IPY_MODEL_a7b38d8a814d4b00a8e4cc04e52c8ccc"
     }
    },
    "7d79acc532fa4ec0b8e30683f13860d0": {
     "model_module": "@jupyter-widgets/base",
     "model_name": "LayoutModel",
     "state": {
      "_model_module": "@jupyter-widgets/base",
      "_model_module_version": "1.2.0",
      "_model_name": "LayoutModel",
      "_view_count": null,
      "_view_module": "@jupyter-widgets/base",
      "_view_module_version": "1.2.0",
      "_view_name": "LayoutView",
      "align_content": null,
      "align_items": null,
      "align_self": null,
      "border": null,
      "bottom": null,
      "display": null,
      "flex": null,
      "flex_flow": null,
      "grid_area": null,
      "grid_auto_columns": null,
      "grid_auto_flow": null,
      "grid_auto_rows": null,
      "grid_column": null,
      "grid_gap": null,
      "grid_row": null,
      "grid_template_areas": null,
      "grid_template_columns": null,
      "grid_template_rows": null,
      "height": null,
      "justify_content": null,
      "justify_items": null,
      "left": null,
      "margin": null,
      "max_height": null,
      "max_width": null,
      "min_height": null,
      "min_width": null,
      "object_fit": null,
      "object_position": null,
      "order": null,
      "overflow": null,
      "overflow_x": null,
      "overflow_y": null,
      "padding": null,
      "right": null,
      "top": null,
      "visibility": null,
      "width": null
     }
    },
    "81dabae78fbf42f4ae5e576ce043f2c1": {
     "model_module": "@jupyter-widgets/base",
     "model_name": "LayoutModel",
     "state": {
      "_model_module": "@jupyter-widgets/base",
      "_model_module_version": "1.2.0",
      "_model_name": "LayoutModel",
      "_view_count": null,
      "_view_module": "@jupyter-widgets/base",
      "_view_module_version": "1.2.0",
      "_view_name": "LayoutView",
      "align_content": null,
      "align_items": null,
      "align_self": null,
      "border": null,
      "bottom": null,
      "display": null,
      "flex": null,
      "flex_flow": null,
      "grid_area": null,
      "grid_auto_columns": null,
      "grid_auto_flow": null,
      "grid_auto_rows": null,
      "grid_column": null,
      "grid_gap": null,
      "grid_row": null,
      "grid_template_areas": null,
      "grid_template_columns": null,
      "grid_template_rows": null,
      "height": null,
      "justify_content": null,
      "justify_items": null,
      "left": null,
      "margin": null,
      "max_height": null,
      "max_width": null,
      "min_height": null,
      "min_width": null,
      "object_fit": null,
      "object_position": null,
      "order": null,
      "overflow": null,
      "overflow_x": null,
      "overflow_y": null,
      "padding": null,
      "right": null,
      "top": null,
      "visibility": null,
      "width": null
     }
    },
    "9081ed36779543eaa15de27df4be1653": {
     "model_module": "@jupyter-widgets/base",
     "model_name": "LayoutModel",
     "state": {
      "_model_module": "@jupyter-widgets/base",
      "_model_module_version": "1.2.0",
      "_model_name": "LayoutModel",
      "_view_count": null,
      "_view_module": "@jupyter-widgets/base",
      "_view_module_version": "1.2.0",
      "_view_name": "LayoutView",
      "align_content": null,
      "align_items": null,
      "align_self": null,
      "border": null,
      "bottom": null,
      "display": null,
      "flex": null,
      "flex_flow": null,
      "grid_area": null,
      "grid_auto_columns": null,
      "grid_auto_flow": null,
      "grid_auto_rows": null,
      "grid_column": null,
      "grid_gap": null,
      "grid_row": null,
      "grid_template_areas": null,
      "grid_template_columns": null,
      "grid_template_rows": null,
      "height": null,
      "justify_content": null,
      "justify_items": null,
      "left": null,
      "margin": null,
      "max_height": null,
      "max_width": null,
      "min_height": null,
      "min_width": null,
      "object_fit": null,
      "object_position": null,
      "order": null,
      "overflow": null,
      "overflow_x": null,
      "overflow_y": null,
      "padding": null,
      "right": null,
      "top": null,
      "visibility": null,
      "width": null
     }
    },
    "91ad3057140f43ab9eda40b47d2cdc71": {
     "model_module": "@jupyter-widgets/controls",
     "model_name": "ProgressStyleModel",
     "state": {
      "_model_module": "@jupyter-widgets/controls",
      "_model_module_version": "1.5.0",
      "_model_name": "ProgressStyleModel",
      "_view_count": null,
      "_view_module": "@jupyter-widgets/base",
      "_view_module_version": "1.2.0",
      "_view_name": "StyleView",
      "bar_color": null,
      "description_width": "initial"
     }
    },
    "a7b38d8a814d4b00a8e4cc04e52c8ccc": {
     "model_module": "@jupyter-widgets/base",
     "model_name": "LayoutModel",
     "state": {
      "_model_module": "@jupyter-widgets/base",
      "_model_module_version": "1.2.0",
      "_model_name": "LayoutModel",
      "_view_count": null,
      "_view_module": "@jupyter-widgets/base",
      "_view_module_version": "1.2.0",
      "_view_name": "LayoutView",
      "align_content": null,
      "align_items": null,
      "align_self": null,
      "border": null,
      "bottom": null,
      "display": null,
      "flex": null,
      "flex_flow": null,
      "grid_area": null,
      "grid_auto_columns": null,
      "grid_auto_flow": null,
      "grid_auto_rows": null,
      "grid_column": null,
      "grid_gap": null,
      "grid_row": null,
      "grid_template_areas": null,
      "grid_template_columns": null,
      "grid_template_rows": null,
      "height": null,
      "justify_content": null,
      "justify_items": null,
      "left": null,
      "margin": null,
      "max_height": null,
      "max_width": null,
      "min_height": null,
      "min_width": null,
      "object_fit": null,
      "object_position": null,
      "order": null,
      "overflow": null,
      "overflow_x": null,
      "overflow_y": null,
      "padding": null,
      "right": null,
      "top": null,
      "visibility": null,
      "width": null
     }
    },
    "af97ddfde4804f0ab4cfb3d7880eddf0": {
     "model_module": "@jupyter-widgets/controls",
     "model_name": "FloatProgressModel",
     "state": {
      "_dom_classes": [],
      "_model_module": "@jupyter-widgets/controls",
      "_model_module_version": "1.5.0",
      "_model_name": "FloatProgressModel",
      "_view_count": null,
      "_view_module": "@jupyter-widgets/controls",
      "_view_module_version": "1.5.0",
      "_view_name": "ProgressView",
      "bar_style": "success",
      "description": "Downloading: 100%",
      "description_tooltip": null,
      "layout": "IPY_MODEL_bf73124655734652b5eb61d5d9714857",
      "max": 1135173,
      "min": 0,
      "orientation": "horizontal",
      "style": "IPY_MODEL_dfb7606582784c449583e503942701c3",
      "value": 1135173
     }
    },
    "bf73124655734652b5eb61d5d9714857": {
     "model_module": "@jupyter-widgets/base",
     "model_name": "LayoutModel",
     "state": {
      "_model_module": "@jupyter-widgets/base",
      "_model_module_version": "1.2.0",
      "_model_name": "LayoutModel",
      "_view_count": null,
      "_view_module": "@jupyter-widgets/base",
      "_view_module_version": "1.2.0",
      "_view_name": "LayoutView",
      "align_content": null,
      "align_items": null,
      "align_self": null,
      "border": null,
      "bottom": null,
      "display": null,
      "flex": null,
      "flex_flow": null,
      "grid_area": null,
      "grid_auto_columns": null,
      "grid_auto_flow": null,
      "grid_auto_rows": null,
      "grid_column": null,
      "grid_gap": null,
      "grid_row": null,
      "grid_template_areas": null,
      "grid_template_columns": null,
      "grid_template_rows": null,
      "height": null,
      "justify_content": null,
      "justify_items": null,
      "left": null,
      "margin": null,
      "max_height": null,
      "max_width": null,
      "min_height": null,
      "min_width": null,
      "object_fit": null,
      "object_position": null,
      "order": null,
      "overflow": null,
      "overflow_x": null,
      "overflow_y": null,
      "padding": null,
      "right": null,
      "top": null,
      "visibility": null,
      "width": null
     }
    },
    "d51e22a2153c4d489ffd9c663870b264": {
     "model_module": "@jupyter-widgets/controls",
     "model_name": "HTMLModel",
     "state": {
      "_dom_classes": [],
      "_model_module": "@jupyter-widgets/controls",
      "_model_module_version": "1.5.0",
      "_model_name": "HTMLModel",
      "_view_count": null,
      "_view_module": "@jupyter-widgets/controls",
      "_view_module_version": "1.5.0",
      "_view_name": "HTMLView",
      "description": "",
      "description_tooltip": null,
      "layout": "IPY_MODEL_9081ed36779543eaa15de27df4be1653",
      "placeholder": "​",
      "style": "IPY_MODEL_71c2afc6bbd54465931864b8573339c2",
      "value": " 557/557 [00:00&lt;00:00, 1.30kB/s]"
     }
    },
    "dfb7606582784c449583e503942701c3": {
     "model_module": "@jupyter-widgets/controls",
     "model_name": "ProgressStyleModel",
     "state": {
      "_model_module": "@jupyter-widgets/controls",
      "_model_module_version": "1.5.0",
      "_model_name": "ProgressStyleModel",
      "_view_count": null,
      "_view_module": "@jupyter-widgets/base",
      "_view_module_version": "1.2.0",
      "_view_name": "StyleView",
      "bar_color": null,
      "description_width": "initial"
     }
    },
    "e0b9b95138174f828fd85179ce83696d": {
     "model_module": "@jupyter-widgets/base",
     "model_name": "LayoutModel",
     "state": {
      "_model_module": "@jupyter-widgets/base",
      "_model_module_version": "1.2.0",
      "_model_name": "LayoutModel",
      "_view_count": null,
      "_view_module": "@jupyter-widgets/base",
      "_view_module_version": "1.2.0",
      "_view_name": "LayoutView",
      "align_content": null,
      "align_items": null,
      "align_self": null,
      "border": null,
      "bottom": null,
      "display": null,
      "flex": null,
      "flex_flow": null,
      "grid_area": null,
      "grid_auto_columns": null,
      "grid_auto_flow": null,
      "grid_auto_rows": null,
      "grid_column": null,
      "grid_gap": null,
      "grid_row": null,
      "grid_template_areas": null,
      "grid_template_columns": null,
      "grid_template_rows": null,
      "height": null,
      "justify_content": null,
      "justify_items": null,
      "left": null,
      "margin": null,
      "max_height": null,
      "max_width": null,
      "min_height": null,
      "min_width": null,
      "object_fit": null,
      "object_position": null,
      "order": null,
      "overflow": null,
      "overflow_x": null,
      "overflow_y": null,
      "padding": null,
      "right": null,
      "top": null,
      "visibility": null,
      "width": null
     }
    },
    "e310522aacaa43e9a647d08bcf895a8a": {
     "model_module": "@jupyter-widgets/base",
     "model_name": "LayoutModel",
     "state": {
      "_model_module": "@jupyter-widgets/base",
      "_model_module_version": "1.2.0",
      "_model_name": "LayoutModel",
      "_view_count": null,
      "_view_module": "@jupyter-widgets/base",
      "_view_module_version": "1.2.0",
      "_view_name": "LayoutView",
      "align_content": null,
      "align_items": null,
      "align_self": null,
      "border": null,
      "bottom": null,
      "display": null,
      "flex": null,
      "flex_flow": null,
      "grid_area": null,
      "grid_auto_columns": null,
      "grid_auto_flow": null,
      "grid_auto_rows": null,
      "grid_column": null,
      "grid_gap": null,
      "grid_row": null,
      "grid_template_areas": null,
      "grid_template_columns": null,
      "grid_template_rows": null,
      "height": null,
      "justify_content": null,
      "justify_items": null,
      "left": null,
      "margin": null,
      "max_height": null,
      "max_width": null,
      "min_height": null,
      "min_width": null,
      "object_fit": null,
      "object_position": null,
      "order": null,
      "overflow": null,
      "overflow_x": null,
      "overflow_y": null,
      "padding": null,
      "right": null,
      "top": null,
      "visibility": null,
      "width": null
     }
    },
    "ee4fb4fa9b7546f19dac007f8a2de367": {
     "model_module": "@jupyter-widgets/controls",
     "model_name": "HTMLModel",
     "state": {
      "_dom_classes": [],
      "_model_module": "@jupyter-widgets/controls",
      "_model_module_version": "1.5.0",
      "_model_name": "HTMLModel",
      "_view_count": null,
      "_view_module": "@jupyter-widgets/controls",
      "_view_module_version": "1.5.0",
      "_view_name": "HTMLView",
      "description": "",
      "description_tooltip": null,
      "layout": "IPY_MODEL_81dabae78fbf42f4ae5e576ce043f2c1",
      "placeholder": "​",
      "style": "IPY_MODEL_106b01fedb0e4d918cfefb772b36e009",
      "value": " 1.14M/1.14M [00:00&lt;00:00, 7.82MB/s]"
     }
    },
    "fefcdb5c42754402abc7bd6e30424fa9": {
     "model_module": "@jupyter-widgets/controls",
     "model_name": "FloatProgressModel",
     "state": {
      "_dom_classes": [],
      "_model_module": "@jupyter-widgets/controls",
      "_model_module_version": "1.5.0",
      "_model_name": "FloatProgressModel",
      "_view_count": null,
      "_view_module": "@jupyter-widgets/controls",
      "_view_module_version": "1.5.0",
      "_view_name": "ProgressView",
      "bar_style": "success",
      "description": "Downloading: 100%",
      "description_tooltip": null,
      "layout": "IPY_MODEL_39f57a528a9a41a0845b3190546edb56",
      "max": 557,
      "min": 0,
      "orientation": "horizontal",
      "style": "IPY_MODEL_91ad3057140f43ab9eda40b47d2cdc71",
      "value": 557
     }
    }
   }
  }
 },
 "nbformat": 4,
 "nbformat_minor": 1
}

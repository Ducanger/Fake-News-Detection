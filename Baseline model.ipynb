{
 "cells": [
  {
   "cell_type": "markdown",
   "metadata": {},
   "source": [
    "# Import Libraries"
   ]
  },
  {
   "cell_type": "code",
   "execution_count": 8,
   "metadata": {
    "scrolled": true
   },
   "outputs": [],
   "source": [
    "import pandas as pd\n",
    "import numpy as np\n",
    "from sklearn.model_selection import train_test_split, KFold\n",
    "from sklearn.feature_extraction.text import CountVectorizer,TfidfVectorizer, TfidfTransformer\n",
    "from sklearn import metrics\n",
    "from sklearn.metrics import accuracy_score\n",
    "from sklearn.pipeline import Pipeline\n",
    "from sklearn.naive_bayes import MultinomialNB\n",
    "from sklearn.linear_model import LogisticRegression, SGDClassifier, Perceptron\n",
    "from sklearn.ensemble import RandomForestClassifier, BaggingClassifier, VotingClassifier, StackingClassifier\n",
    "from sklearn.svm import LinearSVC, SVC\n",
    "from sklearn.tree import DecisionTreeClassifier\n",
    "from lightgbm import LGBMClassifier\n",
    "from sklearn.decomposition import TruncatedSVD"
   ]
  },
  {
   "cell_type": "markdown",
   "metadata": {},
   "source": [
    "# Load data"
   ]
  },
  {
   "cell_type": "code",
   "execution_count": 9,
   "metadata": {
    "scrolled": true
   },
   "outputs": [],
   "source": [
    "df_train = pd.read_csv(r'D:\\Dat\\Fake News Detection\\Data\\train.csv')\n",
    "df_train.drop(['id','user_name','user_name_labelEncoder','user_name_freq'], axis='columns', inplace=True)\n",
    "df_test = pd.read_csv(r'D:\\Dat\\Fake News Detection\\Data\\test.csv')\n",
    "df_test.drop(['id','user_name','user_name_labelEncoder','user_name_freq'], axis='columns', inplace=True)"
   ]
  },
  {
   "cell_type": "code",
   "execution_count": 10,
   "metadata": {
    "scrolled": false
   },
   "outputs": [
    {
     "name": "stdout",
     "output_type": "stream",
     "text": [
      "(4080, 5)\n"
     ]
    },
    {
     "data": {
      "text/html": [
       "<div>\n",
       "<style scoped>\n",
       "    .dataframe tbody tr th:only-of-type {\n",
       "        vertical-align: middle;\n",
       "    }\n",
       "\n",
       "    .dataframe tbody tr th {\n",
       "        vertical-align: top;\n",
       "    }\n",
       "\n",
       "    .dataframe thead th {\n",
       "        text-align: right;\n",
       "    }\n",
       "</style>\n",
       "<table border=\"1\" class=\"dataframe\">\n",
       "  <thead>\n",
       "    <tr style=\"text-align: right;\">\n",
       "      <th></th>\n",
       "      <th>post_message</th>\n",
       "      <th>num_like_post</th>\n",
       "      <th>num_comment_post</th>\n",
       "      <th>num_share_post</th>\n",
       "      <th>label</th>\n",
       "    </tr>\n",
       "  </thead>\n",
       "  <tbody>\n",
       "    <tr>\n",
       "      <th>0</th>\n",
       "      <td>Chủ_tịch UBND &lt; URL &gt; yêu_cầu Sở Nội_vụ &lt; URL ...</td>\n",
       "      <td>9</td>\n",
       "      <td>1</td>\n",
       "      <td>0.0</td>\n",
       "      <td>0</td>\n",
       "    </tr>\n",
       "    <tr>\n",
       "      <th>1</th>\n",
       "      <td>Ngày 28/6 , Công_an quận Đống_Đa ( Hà_Nội ) vừ...</td>\n",
       "      <td>30</td>\n",
       "      <td>0</td>\n",
       "      <td>3.0</td>\n",
       "      <td>0</td>\n",
       "    </tr>\n",
       "    <tr>\n",
       "      <th>2</th>\n",
       "      <td>COVID-19 đang tạo nên một tình_huống chưa từng...</td>\n",
       "      <td>10000</td>\n",
       "      <td>342</td>\n",
       "      <td>2900.0</td>\n",
       "      <td>0</td>\n",
       "    </tr>\n",
       "    <tr>\n",
       "      <th>3</th>\n",
       "      <td>Cuối_cùng cũng thừa_nhận ... Trích : “ Công_an...</td>\n",
       "      <td>64</td>\n",
       "      <td>14</td>\n",
       "      <td>4.0</td>\n",
       "      <td>0</td>\n",
       "    </tr>\n",
       "    <tr>\n",
       "      <th>4</th>\n",
       "      <td>Trung_Cộng đã quá vội_vã ? Tập_Cận_Bình trong ...</td>\n",
       "      <td>38</td>\n",
       "      <td>4</td>\n",
       "      <td>1.0</td>\n",
       "      <td>1</td>\n",
       "    </tr>\n",
       "  </tbody>\n",
       "</table>\n",
       "</div>"
      ],
      "text/plain": [
       "                                        post_message  num_like_post  \\\n",
       "0  Chủ_tịch UBND < URL > yêu_cầu Sở Nội_vụ < URL ...              9   \n",
       "1  Ngày 28/6 , Công_an quận Đống_Đa ( Hà_Nội ) vừ...             30   \n",
       "2  COVID-19 đang tạo nên một tình_huống chưa từng...          10000   \n",
       "3  Cuối_cùng cũng thừa_nhận ... Trích : “ Công_an...             64   \n",
       "4  Trung_Cộng đã quá vội_vã ? Tập_Cận_Bình trong ...             38   \n",
       "\n",
       "   num_comment_post  num_share_post  label  \n",
       "0                 1             0.0      0  \n",
       "1                 0             3.0      0  \n",
       "2               342          2900.0      0  \n",
       "3                14             4.0      0  \n",
       "4                 4             1.0      1  "
      ]
     },
     "execution_count": 10,
     "metadata": {},
     "output_type": "execute_result"
    }
   ],
   "source": [
    "print(df_train.shape)\n",
    "df_train.head()"
   ]
  },
  {
   "cell_type": "code",
   "execution_count": 11,
   "metadata": {
    "scrolled": false
   },
   "outputs": [
    {
     "name": "stdout",
     "output_type": "stream",
     "text": [
      "(1020, 5)\n"
     ]
    },
    {
     "data": {
      "text/html": [
       "<div>\n",
       "<style scoped>\n",
       "    .dataframe tbody tr th:only-of-type {\n",
       "        vertical-align: middle;\n",
       "    }\n",
       "\n",
       "    .dataframe tbody tr th {\n",
       "        vertical-align: top;\n",
       "    }\n",
       "\n",
       "    .dataframe thead th {\n",
       "        text-align: right;\n",
       "    }\n",
       "</style>\n",
       "<table border=\"1\" class=\"dataframe\">\n",
       "  <thead>\n",
       "    <tr style=\"text-align: right;\">\n",
       "      <th></th>\n",
       "      <th>post_message</th>\n",
       "      <th>num_like_post</th>\n",
       "      <th>num_comment_post</th>\n",
       "      <th>num_share_post</th>\n",
       "      <th>label</th>\n",
       "    </tr>\n",
       "  </thead>\n",
       "  <tbody>\n",
       "    <tr>\n",
       "      <th>0</th>\n",
       "      <td>TƯ_VẤN MÙA_THI : Cách nộp hồ_sơ để trúng_tuyển...</td>\n",
       "      <td>48</td>\n",
       "      <td>5</td>\n",
       "      <td>19.0</td>\n",
       "      <td>0</td>\n",
       "    </tr>\n",
       "    <tr>\n",
       "      <th>1</th>\n",
       "      <td>Chủ đầu_tư tại Hà_Nội tung sản_phẩm có mức giá...</td>\n",
       "      <td>25</td>\n",
       "      <td>1</td>\n",
       "      <td>1.0</td>\n",
       "      <td>0</td>\n",
       "    </tr>\n",
       "    <tr>\n",
       "      <th>2</th>\n",
       "      <td>Trong 1 vụ xô_xát nhỏ thôi , em_trai này bị bắ...</td>\n",
       "      <td>170</td>\n",
       "      <td>51</td>\n",
       "      <td>68.0</td>\n",
       "      <td>1</td>\n",
       "    </tr>\n",
       "    <tr>\n",
       "      <th>3</th>\n",
       "      <td>VIỆT NAM ĐÃ CÓ 145 CA KHỎI COVID-19 Thông_tin ...</td>\n",
       "      <td>7393</td>\n",
       "      <td>13</td>\n",
       "      <td>236.0</td>\n",
       "      <td>0</td>\n",
       "    </tr>\n",
       "    <tr>\n",
       "      <th>4</th>\n",
       "      <td>1 . Nhiều thứ chúng_ta mong_mỏi có được lại có...</td>\n",
       "      <td>290</td>\n",
       "      <td>5</td>\n",
       "      <td>66.0</td>\n",
       "      <td>0</td>\n",
       "    </tr>\n",
       "  </tbody>\n",
       "</table>\n",
       "</div>"
      ],
      "text/plain": [
       "                                        post_message  num_like_post  \\\n",
       "0  TƯ_VẤN MÙA_THI : Cách nộp hồ_sơ để trúng_tuyển...             48   \n",
       "1  Chủ đầu_tư tại Hà_Nội tung sản_phẩm có mức giá...             25   \n",
       "2  Trong 1 vụ xô_xát nhỏ thôi , em_trai này bị bắ...            170   \n",
       "3  VIỆT NAM ĐÃ CÓ 145 CA KHỎI COVID-19 Thông_tin ...           7393   \n",
       "4  1 . Nhiều thứ chúng_ta mong_mỏi có được lại có...            290   \n",
       "\n",
       "   num_comment_post  num_share_post  label  \n",
       "0                 5            19.0      0  \n",
       "1                 1             1.0      0  \n",
       "2                51            68.0      1  \n",
       "3                13           236.0      0  \n",
       "4                 5            66.0      0  "
      ]
     },
     "execution_count": 11,
     "metadata": {},
     "output_type": "execute_result"
    }
   ],
   "source": [
    "print(df_test.shape)\n",
    "df_test.head()"
   ]
  },
  {
   "cell_type": "code",
   "execution_count": 12,
   "metadata": {},
   "outputs": [],
   "source": [
    "X_train = df_train.post_message\n",
    "X_test = df_test.post_message\n",
    "y_train =  df_train.label\n",
    "y_test = df_test.label"
   ]
  },
  {
   "cell_type": "markdown",
   "metadata": {},
   "source": [
    "# Model"
   ]
  },
  {
   "cell_type": "code",
   "execution_count": 19,
   "metadata": {
    "scrolled": true
   },
   "outputs": [],
   "source": [
    "clf = Pipeline([\n",
    "    ('tfidf', TfidfVectorizer()),\n",
    "    ('svd', TruncatedSVD(n_components = 576, random_state=42)),\n",
    "    ('model', Perceptron()) \n",
    "])"
   ]
  },
  {
   "cell_type": "code",
   "execution_count": 20,
   "metadata": {},
   "outputs": [],
   "source": [
    "clf.fit(X_train, y_train)\n",
    "y_pred = clf.predict(X_test)"
   ]
  },
  {
   "cell_type": "markdown",
   "metadata": {},
   "source": [
    "# Score"
   ]
  },
  {
   "cell_type": "code",
   "execution_count": 21,
   "metadata": {
    "scrolled": false
   },
   "outputs": [
    {
     "name": "stdout",
     "output_type": "stream",
     "text": [
      "Accuracy =  0.8294 \n",
      "\n",
      "ROC-AUC = 0.8519 \n",
      "\n",
      "Confusion matrix:\n",
      " [[690 154]\n",
      " [ 20 156]] \n",
      "\n",
      "              precision    recall  f1-score   support\n",
      "\n",
      "           0       0.97      0.82      0.89       844\n",
      "           1       0.50      0.89      0.64       176\n",
      "\n",
      "    accuracy                           0.83      1020\n",
      "   macro avg       0.74      0.85      0.77      1020\n",
      "weighted avg       0.89      0.83      0.85      1020\n",
      "\n"
     ]
    }
   ],
   "source": [
    "print('Accuracy = ', round(accuracy_score(y_test, y_pred),4),'\\n')\n",
    "print('ROC-AUC =', round(metrics.roc_auc_score(y_test, y_pred),4),'\\n')\n",
    "print('Confusion matrix:\\n', metrics.confusion_matrix(y_test, y_pred),'\\n')\n",
    "print(metrics.classification_report(y_test,y_pred))"
   ]
  }
 ],
 "metadata": {
  "kernelspec": {
   "display_name": "Python 3",
   "language": "python",
   "name": "python3"
  },
  "language_info": {
   "codemirror_mode": {
    "name": "ipython",
    "version": 3
   },
   "file_extension": ".py",
   "mimetype": "text/x-python",
   "name": "python",
   "nbconvert_exporter": "python",
   "pygments_lexer": "ipython3",
   "version": "3.8.5"
  }
 },
 "nbformat": 4,
 "nbformat_minor": 4
}
